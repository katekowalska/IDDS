{
 "cells": [
  {
   "cell_type": "markdown",
   "metadata": {},
   "source": [
    "# Projekt MSiABD\n",
    "## Katarzyna Kowalska"
   ]
  },
  {
   "cell_type": "code",
   "execution_count": 3,
   "metadata": {},
   "outputs": [],
   "source": [
    "# Read library\n",
    "\n",
    "library(readr)\n",
    "library(tidyverse)\n",
    "library(ggplot2)\n",
    "library(mctest)\n",
    "library(caTools)\n",
    "library(Hmisc)\n",
    "library(pROC)\n",
    "library(h2o)\n",
    "library(tree)"
   ]
  },
  {
   "cell_type": "markdown",
   "metadata": {},
   "source": [
    "Wczytujemy dane:"
   ]
  },
  {
   "cell_type": "code",
   "execution_count": 4,
   "metadata": {},
   "outputs": [],
   "source": [
    "# Read data set\n",
    "\n",
    "mydata <- read.csv(\"wdbc.csv\")"
   ]
  },
  {
   "cell_type": "markdown",
   "metadata": {},
   "source": [
    "Sprawdzamy strukturę danych:"
   ]
  },
  {
   "cell_type": "code",
   "execution_count": 5,
   "metadata": {
    "scrolled": false
   },
   "outputs": [
    {
     "data": {
      "text/html": [
       "569"
      ],
      "text/latex": [
       "569"
      ],
      "text/markdown": [
       "569"
      ],
      "text/plain": [
       "[1] 569"
      ]
     },
     "metadata": {},
     "output_type": "display_data"
    },
    {
     "data": {
      "text/html": [
       "32"
      ],
      "text/latex": [
       "32"
      ],
      "text/markdown": [
       "32"
      ],
      "text/plain": [
       "[1] 32"
      ]
     },
     "metadata": {},
     "output_type": "display_data"
    },
    {
     "name": "stdout",
     "output_type": "stream",
     "text": [
      "'data.frame':\t569 obs. of  32 variables:\n",
      " $ ID.number: int  842302 842517 84300903 84348301 84358402 843786 844359 84458202 844981 84501001 ...\n",
      " $ Diagnosis: chr  \"M\" \"M\" \"M\" \"M\" ...\n",
      " $ V1       : num  18 20.6 19.7 11.4 20.3 ...\n",
      " $ V2       : num  10.4 17.8 21.2 20.4 14.3 ...\n",
      " $ V3       : num  122.8 132.9 130 77.6 135.1 ...\n",
      " $ V4       : num  1001 1326 1203 386 1297 ...\n",
      " $ V5       : num  0.1184 0.0847 0.1096 0.1425 0.1003 ...\n",
      " $ V6       : num  0.2776 0.0786 0.1599 0.2839 0.1328 ...\n",
      " $ V7       : num  0.3001 0.0869 0.1974 0.2414 0.198 ...\n",
      " $ V8       : num  0.1471 0.0702 0.1279 0.1052 0.1043 ...\n",
      " $ V9       : num  0.242 0.181 0.207 0.26 0.181 ...\n",
      " $ V10      : num  0.0787 0.0567 0.06 0.0974 0.0588 ...\n",
      " $ V11      : num  1.095 0.543 0.746 0.496 0.757 ...\n",
      " $ V12      : num  0.905 0.734 0.787 1.156 0.781 ...\n",
      " $ V13      : num  8.59 3.4 4.58 3.44 5.44 ...\n",
      " $ V14      : num  153.4 74.1 94 27.2 94.4 ...\n",
      " $ V15      : num  0.0064 0.00522 0.00615 0.00911 0.01149 ...\n",
      " $ V16      : num  0.049 0.0131 0.0401 0.0746 0.0246 ...\n",
      " $ V17      : num  0.0537 0.0186 0.0383 0.0566 0.0569 ...\n",
      " $ V18      : num  0.0159 0.0134 0.0206 0.0187 0.0188 ...\n",
      " $ V19      : num  0.03 0.0139 0.0225 0.0596 0.0176 ...\n",
      " $ V20      : num  0.00619 0.00353 0.00457 0.00921 0.00511 ...\n",
      " $ V21      : num  25.4 25 23.6 14.9 22.5 ...\n",
      " $ V22      : num  17.3 23.4 25.5 26.5 16.7 ...\n",
      " $ V23      : num  184.6 158.8 152.5 98.9 152.2 ...\n",
      " $ V24      : num  2019 1956 1709 568 1575 ...\n",
      " $ V25      : num  0.162 0.124 0.144 0.21 0.137 ...\n",
      " $ V26      : num  0.666 0.187 0.424 0.866 0.205 ...\n",
      " $ V27      : num  0.712 0.242 0.45 0.687 0.4 ...\n",
      " $ V28      : num  0.265 0.186 0.243 0.258 0.163 ...\n",
      " $ V29      : num  0.46 0.275 0.361 0.664 0.236 ...\n",
      " $ V30      : num  0.1189 0.089 0.0876 0.173 0.0768 ...\n"
     ]
    },
    {
     "data": {
      "text/html": [
       "<table>\n",
       "<caption>A data.frame: 6 × 32</caption>\n",
       "<thead>\n",
       "\t<tr><th></th><th scope=col>ID.number</th><th scope=col>Diagnosis</th><th scope=col>V1</th><th scope=col>V2</th><th scope=col>V3</th><th scope=col>V4</th><th scope=col>V5</th><th scope=col>V6</th><th scope=col>V7</th><th scope=col>V8</th><th scope=col>...</th><th scope=col>V21</th><th scope=col>V22</th><th scope=col>V23</th><th scope=col>V24</th><th scope=col>V25</th><th scope=col>V26</th><th scope=col>V27</th><th scope=col>V28</th><th scope=col>V29</th><th scope=col>V30</th></tr>\n",
       "\t<tr><th></th><th scope=col>&lt;int&gt;</th><th scope=col>&lt;chr&gt;</th><th scope=col>&lt;dbl&gt;</th><th scope=col>&lt;dbl&gt;</th><th scope=col>&lt;dbl&gt;</th><th scope=col>&lt;dbl&gt;</th><th scope=col>&lt;dbl&gt;</th><th scope=col>&lt;dbl&gt;</th><th scope=col>&lt;dbl&gt;</th><th scope=col>&lt;dbl&gt;</th><th scope=col>...</th><th scope=col>&lt;dbl&gt;</th><th scope=col>&lt;dbl&gt;</th><th scope=col>&lt;dbl&gt;</th><th scope=col>&lt;dbl&gt;</th><th scope=col>&lt;dbl&gt;</th><th scope=col>&lt;dbl&gt;</th><th scope=col>&lt;dbl&gt;</th><th scope=col>&lt;dbl&gt;</th><th scope=col>&lt;dbl&gt;</th><th scope=col>&lt;dbl&gt;</th></tr>\n",
       "</thead>\n",
       "<tbody>\n",
       "\t<tr><th scope=row>1</th><td>  842302</td><td>M</td><td>17.99</td><td>10.38</td><td>122.80</td><td>1001.0</td><td>0.11840</td><td>0.27760</td><td>0.3001</td><td>0.14710</td><td>...</td><td>25.38</td><td>17.33</td><td>184.60</td><td>2019.0</td><td>0.1622</td><td>0.6656</td><td>0.7119</td><td>0.2654</td><td>0.4601</td><td>0.11890</td></tr>\n",
       "\t<tr><th scope=row>2</th><td>  842517</td><td>M</td><td>20.57</td><td>17.77</td><td>132.90</td><td>1326.0</td><td>0.08474</td><td>0.07864</td><td>0.0869</td><td>0.07017</td><td>...</td><td>24.99</td><td>23.41</td><td>158.80</td><td>1956.0</td><td>0.1238</td><td>0.1866</td><td>0.2416</td><td>0.1860</td><td>0.2750</td><td>0.08902</td></tr>\n",
       "\t<tr><th scope=row>3</th><td>84300903</td><td>M</td><td>19.69</td><td>21.25</td><td>130.00</td><td>1203.0</td><td>0.10960</td><td>0.15990</td><td>0.1974</td><td>0.12790</td><td>...</td><td>23.57</td><td>25.53</td><td>152.50</td><td>1709.0</td><td>0.1444</td><td>0.4245</td><td>0.4504</td><td>0.2430</td><td>0.3613</td><td>0.08758</td></tr>\n",
       "\t<tr><th scope=row>4</th><td>84348301</td><td>M</td><td>11.42</td><td>20.38</td><td> 77.58</td><td> 386.1</td><td>0.14250</td><td>0.28390</td><td>0.2414</td><td>0.10520</td><td>...</td><td>14.91</td><td>26.50</td><td> 98.87</td><td> 567.7</td><td>0.2098</td><td>0.8663</td><td>0.6869</td><td>0.2575</td><td>0.6638</td><td>0.17300</td></tr>\n",
       "\t<tr><th scope=row>5</th><td>84358402</td><td>M</td><td>20.29</td><td>14.34</td><td>135.10</td><td>1297.0</td><td>0.10030</td><td>0.13280</td><td>0.1980</td><td>0.10430</td><td>...</td><td>22.54</td><td>16.67</td><td>152.20</td><td>1575.0</td><td>0.1374</td><td>0.2050</td><td>0.4000</td><td>0.1625</td><td>0.2364</td><td>0.07678</td></tr>\n",
       "\t<tr><th scope=row>6</th><td>  843786</td><td>M</td><td>12.45</td><td>15.70</td><td> 82.57</td><td> 477.1</td><td>0.12780</td><td>0.17000</td><td>0.1578</td><td>0.08089</td><td>...</td><td>15.47</td><td>23.75</td><td>103.40</td><td> 741.6</td><td>0.1791</td><td>0.5249</td><td>0.5355</td><td>0.1741</td><td>0.3985</td><td>0.12440</td></tr>\n",
       "</tbody>\n",
       "</table>\n"
      ],
      "text/latex": [
       "A data.frame: 6 × 32\n",
       "\\begin{tabular}{r|lllllllllllllllllllll}\n",
       "  & ID.number & Diagnosis & V1 & V2 & V3 & V4 & V5 & V6 & V7 & V8 & ... & V21 & V22 & V23 & V24 & V25 & V26 & V27 & V28 & V29 & V30\\\\\n",
       "  & <int> & <chr> & <dbl> & <dbl> & <dbl> & <dbl> & <dbl> & <dbl> & <dbl> & <dbl> & ... & <dbl> & <dbl> & <dbl> & <dbl> & <dbl> & <dbl> & <dbl> & <dbl> & <dbl> & <dbl>\\\\\n",
       "\\hline\n",
       "\t1 &   842302 & M & 17.99 & 10.38 & 122.80 & 1001.0 & 0.11840 & 0.27760 & 0.3001 & 0.14710 & ... & 25.38 & 17.33 & 184.60 & 2019.0 & 0.1622 & 0.6656 & 0.7119 & 0.2654 & 0.4601 & 0.11890\\\\\n",
       "\t2 &   842517 & M & 20.57 & 17.77 & 132.90 & 1326.0 & 0.08474 & 0.07864 & 0.0869 & 0.07017 & ... & 24.99 & 23.41 & 158.80 & 1956.0 & 0.1238 & 0.1866 & 0.2416 & 0.1860 & 0.2750 & 0.08902\\\\\n",
       "\t3 & 84300903 & M & 19.69 & 21.25 & 130.00 & 1203.0 & 0.10960 & 0.15990 & 0.1974 & 0.12790 & ... & 23.57 & 25.53 & 152.50 & 1709.0 & 0.1444 & 0.4245 & 0.4504 & 0.2430 & 0.3613 & 0.08758\\\\\n",
       "\t4 & 84348301 & M & 11.42 & 20.38 &  77.58 &  386.1 & 0.14250 & 0.28390 & 0.2414 & 0.10520 & ... & 14.91 & 26.50 &  98.87 &  567.7 & 0.2098 & 0.8663 & 0.6869 & 0.2575 & 0.6638 & 0.17300\\\\\n",
       "\t5 & 84358402 & M & 20.29 & 14.34 & 135.10 & 1297.0 & 0.10030 & 0.13280 & 0.1980 & 0.10430 & ... & 22.54 & 16.67 & 152.20 & 1575.0 & 0.1374 & 0.2050 & 0.4000 & 0.1625 & 0.2364 & 0.07678\\\\\n",
       "\t6 &   843786 & M & 12.45 & 15.70 &  82.57 &  477.1 & 0.12780 & 0.17000 & 0.1578 & 0.08089 & ... & 15.47 & 23.75 & 103.40 &  741.6 & 0.1791 & 0.5249 & 0.5355 & 0.1741 & 0.3985 & 0.12440\\\\\n",
       "\\end{tabular}\n"
      ],
      "text/markdown": [
       "\n",
       "A data.frame: 6 × 32\n",
       "\n",
       "| <!--/--> | ID.number &lt;int&gt; | Diagnosis &lt;chr&gt; | V1 &lt;dbl&gt; | V2 &lt;dbl&gt; | V3 &lt;dbl&gt; | V4 &lt;dbl&gt; | V5 &lt;dbl&gt; | V6 &lt;dbl&gt; | V7 &lt;dbl&gt; | V8 &lt;dbl&gt; | ... ... | V21 &lt;dbl&gt; | V22 &lt;dbl&gt; | V23 &lt;dbl&gt; | V24 &lt;dbl&gt; | V25 &lt;dbl&gt; | V26 &lt;dbl&gt; | V27 &lt;dbl&gt; | V28 &lt;dbl&gt; | V29 &lt;dbl&gt; | V30 &lt;dbl&gt; |\n",
       "|---|---|---|---|---|---|---|---|---|---|---|---|---|---|---|---|---|---|---|---|---|---|\n",
       "| 1 |   842302 | M | 17.99 | 10.38 | 122.80 | 1001.0 | 0.11840 | 0.27760 | 0.3001 | 0.14710 | ... | 25.38 | 17.33 | 184.60 | 2019.0 | 0.1622 | 0.6656 | 0.7119 | 0.2654 | 0.4601 | 0.11890 |\n",
       "| 2 |   842517 | M | 20.57 | 17.77 | 132.90 | 1326.0 | 0.08474 | 0.07864 | 0.0869 | 0.07017 | ... | 24.99 | 23.41 | 158.80 | 1956.0 | 0.1238 | 0.1866 | 0.2416 | 0.1860 | 0.2750 | 0.08902 |\n",
       "| 3 | 84300903 | M | 19.69 | 21.25 | 130.00 | 1203.0 | 0.10960 | 0.15990 | 0.1974 | 0.12790 | ... | 23.57 | 25.53 | 152.50 | 1709.0 | 0.1444 | 0.4245 | 0.4504 | 0.2430 | 0.3613 | 0.08758 |\n",
       "| 4 | 84348301 | M | 11.42 | 20.38 |  77.58 |  386.1 | 0.14250 | 0.28390 | 0.2414 | 0.10520 | ... | 14.91 | 26.50 |  98.87 |  567.7 | 0.2098 | 0.8663 | 0.6869 | 0.2575 | 0.6638 | 0.17300 |\n",
       "| 5 | 84358402 | M | 20.29 | 14.34 | 135.10 | 1297.0 | 0.10030 | 0.13280 | 0.1980 | 0.10430 | ... | 22.54 | 16.67 | 152.20 | 1575.0 | 0.1374 | 0.2050 | 0.4000 | 0.1625 | 0.2364 | 0.07678 |\n",
       "| 6 |   843786 | M | 12.45 | 15.70 |  82.57 |  477.1 | 0.12780 | 0.17000 | 0.1578 | 0.08089 | ... | 15.47 | 23.75 | 103.40 |  741.6 | 0.1791 | 0.5249 | 0.5355 | 0.1741 | 0.3985 | 0.12440 |\n",
       "\n"
      ],
      "text/plain": [
       "  ID.number Diagnosis V1    V2    V3     V4     V5      V6      V7     V8     \n",
       "1   842302  M         17.99 10.38 122.80 1001.0 0.11840 0.27760 0.3001 0.14710\n",
       "2   842517  M         20.57 17.77 132.90 1326.0 0.08474 0.07864 0.0869 0.07017\n",
       "3 84300903  M         19.69 21.25 130.00 1203.0 0.10960 0.15990 0.1974 0.12790\n",
       "4 84348301  M         11.42 20.38  77.58  386.1 0.14250 0.28390 0.2414 0.10520\n",
       "5 84358402  M         20.29 14.34 135.10 1297.0 0.10030 0.13280 0.1980 0.10430\n",
       "6   843786  M         12.45 15.70  82.57  477.1 0.12780 0.17000 0.1578 0.08089\n",
       "  ... V21   V22   V23    V24    V25    V26    V27    V28    V29    V30    \n",
       "1 ... 25.38 17.33 184.60 2019.0 0.1622 0.6656 0.7119 0.2654 0.4601 0.11890\n",
       "2 ... 24.99 23.41 158.80 1956.0 0.1238 0.1866 0.2416 0.1860 0.2750 0.08902\n",
       "3 ... 23.57 25.53 152.50 1709.0 0.1444 0.4245 0.4504 0.2430 0.3613 0.08758\n",
       "4 ... 14.91 26.50  98.87  567.7 0.2098 0.8663 0.6869 0.2575 0.6638 0.17300\n",
       "5 ... 22.54 16.67 152.20 1575.0 0.1374 0.2050 0.4000 0.1625 0.2364 0.07678\n",
       "6 ... 15.47 23.75 103.40  741.6 0.1791 0.5249 0.5355 0.1741 0.3985 0.12440"
      ]
     },
     "metadata": {},
     "output_type": "display_data"
    }
   ],
   "source": [
    "# Structure check\n",
    "\n",
    "nrow(mydata)\n",
    "ncol(mydata)\n",
    "str(mydata)\n",
    "head(mydata)"
   ]
  },
  {
   "cell_type": "markdown",
   "metadata": {},
   "source": [
    "Usuwamy zmienną `ID.number`, ponieważ jest ona zbędna w modelu predykcji:"
   ]
  },
  {
   "cell_type": "code",
   "execution_count": 6,
   "metadata": {},
   "outputs": [],
   "source": [
    "# Remove the ID.number to avoid any future trouble\n",
    "\n",
    "mydata$ID.number <- NULL"
   ]
  },
  {
   "cell_type": "markdown",
   "metadata": {},
   "source": [
    "Sprawdzamy czy w zbiorze nie ma żadnych brakujących danych:"
   ]
  },
  {
   "cell_type": "code",
   "execution_count": 7,
   "metadata": {},
   "outputs": [
    {
     "data": {
      "text/html": [
       "<style>\n",
       ".dl-inline {width: auto; margin:0; padding: 0}\n",
       ".dl-inline>dt, .dl-inline>dd {float: none; width: auto; display: inline-block}\n",
       ".dl-inline>dt::after {content: \":\\0020\"; padding-right: .5ex}\n",
       ".dl-inline>dt:not(:first-of-type) {padding-left: .5ex}\n",
       "</style><dl class=dl-inline><dt>Diagnosis</dt><dd>0</dd><dt>V1</dt><dd>0</dd><dt>V2</dt><dd>0</dd><dt>V3</dt><dd>0</dd><dt>V4</dt><dd>0</dd><dt>V5</dt><dd>0</dd><dt>V6</dt><dd>0</dd><dt>V7</dt><dd>0</dd><dt>V8</dt><dd>0</dd><dt>V9</dt><dd>0</dd><dt>V10</dt><dd>0</dd><dt>V11</dt><dd>0</dd><dt>V12</dt><dd>0</dd><dt>V13</dt><dd>0</dd><dt>V14</dt><dd>0</dd><dt>V15</dt><dd>0</dd><dt>V16</dt><dd>0</dd><dt>V17</dt><dd>0</dd><dt>V18</dt><dd>0</dd><dt>V19</dt><dd>0</dd><dt>V20</dt><dd>0</dd><dt>V21</dt><dd>0</dd><dt>V22</dt><dd>0</dd><dt>V23</dt><dd>0</dd><dt>V24</dt><dd>0</dd><dt>V25</dt><dd>0</dd><dt>V26</dt><dd>0</dd><dt>V27</dt><dd>0</dd><dt>V28</dt><dd>0</dd><dt>V29</dt><dd>0</dd><dt>V30</dt><dd>0</dd></dl>\n"
      ],
      "text/latex": [
       "\\begin{description*}\n",
       "\\item[Diagnosis] 0\n",
       "\\item[V1] 0\n",
       "\\item[V2] 0\n",
       "\\item[V3] 0\n",
       "\\item[V4] 0\n",
       "\\item[V5] 0\n",
       "\\item[V6] 0\n",
       "\\item[V7] 0\n",
       "\\item[V8] 0\n",
       "\\item[V9] 0\n",
       "\\item[V10] 0\n",
       "\\item[V11] 0\n",
       "\\item[V12] 0\n",
       "\\item[V13] 0\n",
       "\\item[V14] 0\n",
       "\\item[V15] 0\n",
       "\\item[V16] 0\n",
       "\\item[V17] 0\n",
       "\\item[V18] 0\n",
       "\\item[V19] 0\n",
       "\\item[V20] 0\n",
       "\\item[V21] 0\n",
       "\\item[V22] 0\n",
       "\\item[V23] 0\n",
       "\\item[V24] 0\n",
       "\\item[V25] 0\n",
       "\\item[V26] 0\n",
       "\\item[V27] 0\n",
       "\\item[V28] 0\n",
       "\\item[V29] 0\n",
       "\\item[V30] 0\n",
       "\\end{description*}\n"
      ],
      "text/markdown": [
       "Diagnosis\n",
       ":   0V1\n",
       ":   0V2\n",
       ":   0V3\n",
       ":   0V4\n",
       ":   0V5\n",
       ":   0V6\n",
       ":   0V7\n",
       ":   0V8\n",
       ":   0V9\n",
       ":   0V10\n",
       ":   0V11\n",
       ":   0V12\n",
       ":   0V13\n",
       ":   0V14\n",
       ":   0V15\n",
       ":   0V16\n",
       ":   0V17\n",
       ":   0V18\n",
       ":   0V19\n",
       ":   0V20\n",
       ":   0V21\n",
       ":   0V22\n",
       ":   0V23\n",
       ":   0V24\n",
       ":   0V25\n",
       ":   0V26\n",
       ":   0V27\n",
       ":   0V28\n",
       ":   0V29\n",
       ":   0V30\n",
       ":   0\n",
       "\n"
      ],
      "text/plain": [
       "Diagnosis        V1        V2        V3        V4        V5        V6        V7 \n",
       "        0         0         0         0         0         0         0         0 \n",
       "       V8        V9       V10       V11       V12       V13       V14       V15 \n",
       "        0         0         0         0         0         0         0         0 \n",
       "      V16       V17       V18       V19       V20       V21       V22       V23 \n",
       "        0         0         0         0         0         0         0         0 \n",
       "      V24       V25       V26       V27       V28       V29       V30 \n",
       "        0         0         0         0         0         0         0 "
      ]
     },
     "metadata": {},
     "output_type": "display_data"
    }
   ],
   "source": [
    "# Missing data check\n",
    "\n",
    "colSums(is.na(mydata)) # No missing data in the dataset."
   ]
  },
  {
   "cell_type": "markdown",
   "metadata": {},
   "source": [
    "W zbiorze nie ma braków w danych. \n",
    "\n",
    "Ustawiamy zmienną niezależną `Diagnosis` jako `factor`:"
   ]
  },
  {
   "cell_type": "code",
   "execution_count": 8,
   "metadata": {},
   "outputs": [],
   "source": [
    "# Set independent variable (Diagnosis) as a factor\n",
    "# M = malignant for 2 and B for B = benign for 1\n",
    "\n",
    "mydata$Diagnosis <- as.factor(mydata$Diagnosis)"
   ]
  },
  {
   "cell_type": "markdown",
   "metadata": {},
   "source": [
    "Wizualizujemy dane w postaci hisotgramów:"
   ]
  },
  {
   "cell_type": "code",
   "execution_count": 9,
   "metadata": {
    "scrolled": false
   },
   "outputs": [
    {
     "data": {
      "image/png": "[encoded data removed]",
      "text/plain": [
       "Plot with title \"\""
      ]
     },
     "metadata": {
      "image/png": {
       "height": 420,
       "width": 420
      }
     },
     "output_type": "display_data"
    },
    {
     "data": {
      "image/png": "[encoded data removed]",
      "text/plain": [
       "Plot with title \"\""
      ]
     },
     "metadata": {
      "image/png": {
       "height": 420,
       "width": 420
      }
     },
     "output_type": "display_data"
    }
   ],
   "source": [
    "# Data visualization histogram\n",
    "\n",
    "hist.data.frame(mydata, n.unique=1)"
   ]
  },
  {
   "cell_type": "markdown",
   "metadata": {},
   "source": [
    "Sprawdzamy, czy w zbiorze danych są obserwacje odstające (ang. outlirs):"
   ]
  },
  {
   "cell_type": "code",
   "execution_count": 10,
   "metadata": {
    "scrolled": false
   },
   "outputs": [
    {
     "data": {
      "image/png": "[encoded data removed]",
      "text/plain": [
       "plot without title"
      ]
     },
     "metadata": {
      "image/png": {
       "height": 420,
       "width": 420
      }
     },
     "output_type": "display_data"
    }
   ],
   "source": [
    "# Outliers check\n",
    "\n",
    "boxplot(mydata)"
   ]
  },
  {
   "cell_type": "markdown",
   "metadata": {},
   "source": [
    "Na wykresie pudełkowym możemy zauważyć, że zmienne `V4`, `V14` i `V24` mogą zawierać potencjalne punkty odstające. Badamy to za pomocą wizualizacji danych z tych zmiennych w postaci wykresu pudełkowego:"
   ]
  },
  {
   "cell_type": "code",
   "execution_count": 11,
   "metadata": {},
   "outputs": [
    {
     "data": {
      "image/png": "[encoded data removed]",
      "text/plain": [
       "plot without title"
      ]
     },
     "metadata": {
      "image/png": {
       "height": 420,
       "width": 420
      }
     },
     "output_type": "display_data"
    },
    {
     "data": {
      "image/png": "[encoded data removed]",
      "text/plain": [
       "plot without title"
      ]
     },
     "metadata": {
      "image/png": {
       "height": 420,
       "width": 420
      }
     },
     "output_type": "display_data"
    },
    {
     "data": {
      "image/png": "[encoded data removed]",
      "text/plain": [
       "plot without title"
      ]
     },
     "metadata": {
      "image/png": {
       "height": 420,
       "width": 420
      }
     },
     "output_type": "display_data"
    }
   ],
   "source": [
    "# Outliers in V4 V14 and V24? Checking with a boxplot\n",
    "\n",
    "ggplot(mydata, aes(y = V4)) + geom_boxplot() + theme_bw()\n",
    "ggplot(mydata, aes(y = V14)) + geom_boxplot() + theme_bw()\n",
    "ggplot(mydata, aes(y = V24)) + geom_boxplot() + theme_bw()"
   ]
  },
  {
   "cell_type": "markdown",
   "metadata": {},
   "source": [
    "Z wykresów widać, że zmienne `V14` i `V24` rzeczywiście mają obserwacje odstające. Usuwamy je:"
   ]
  },
  {
   "cell_type": "code",
   "execution_count": 12,
   "metadata": {},
   "outputs": [],
   "source": [
    "# variable V14 - 2 outliers & V24 - 1 outlier\n",
    "# Removing the outliers\n",
    "\n",
    "mydata$V14 <- ifelse(mydata$V14 > 400, NA, mydata$V14)\n",
    "\n",
    "mydata$V24 <- ifelse(mydata$V24 > 4000, NA, mydata$V24)"
   ]
  },
  {
   "cell_type": "code",
   "execution_count": 13,
   "metadata": {},
   "outputs": [
    {
     "data": {
      "image/png": "[encoded data removed]",
      "text/plain": [
       "plot without title"
      ]
     },
     "metadata": {
      "image/png": {
       "height": 420,
       "width": 420
      }
     },
     "output_type": "display_data"
    }
   ],
   "source": [
    "# Data visualization histogram after outliers removal\n",
    "\n",
    "boxplot(mydata)"
   ]
  },
  {
   "cell_type": "code",
   "execution_count": 14,
   "metadata": {},
   "outputs": [
    {
     "data": {
      "text/plain": [
       "Diagnosis\n",
       "  B   M \n",
       "357 212 "
      ]
     },
     "metadata": {},
     "output_type": "display_data"
    }
   ],
   "source": [
    "xtabs(~Diagnosis, data = mydata)"
   ]
  },
  {
   "cell_type": "markdown",
   "metadata": {},
   "source": [
    "Dzielimy zbiór danych na podzbiór testowy i uczący:"
   ]
  },
  {
   "cell_type": "code",
   "execution_count": 15,
   "metadata": {},
   "outputs": [
    {
     "data": {
      "text/html": [
       "<style>\n",
       ".list-inline {list-style: none; margin:0; padding: 0}\n",
       ".list-inline>li {display: inline-block}\n",
       ".list-inline>li:not(:last-child)::after {content: \"\\00b7\"; padding: 0 .5ex}\n",
       "</style>\n",
       "<ol class=list-inline><li>TRUE</li><li>TRUE</li><li>TRUE</li><li>TRUE</li><li>TRUE</li><li>TRUE</li><li>TRUE</li><li>TRUE</li><li>TRUE</li><li>TRUE</li><li>TRUE</li><li>FALSE</li><li>TRUE</li><li>TRUE</li><li>FALSE</li><li>TRUE</li><li>FALSE</li><li>FALSE</li><li>FALSE</li><li>TRUE</li><li>TRUE</li><li>TRUE</li><li>TRUE</li><li>FALSE</li><li>TRUE</li><li>TRUE</li><li>TRUE</li><li>FALSE</li><li>TRUE</li><li>TRUE</li><li>TRUE</li></ol>\n"
      ],
      "text/latex": [
       "\\begin{enumerate*}\n",
       "\\item TRUE\n",
       "\\item TRUE\n",
       "\\item TRUE\n",
       "\\item TRUE\n",
       "\\item TRUE\n",
       "\\item TRUE\n",
       "\\item TRUE\n",
       "\\item TRUE\n",
       "\\item TRUE\n",
       "\\item TRUE\n",
       "\\item TRUE\n",
       "\\item FALSE\n",
       "\\item TRUE\n",
       "\\item TRUE\n",
       "\\item FALSE\n",
       "\\item TRUE\n",
       "\\item FALSE\n",
       "\\item FALSE\n",
       "\\item FALSE\n",
       "\\item TRUE\n",
       "\\item TRUE\n",
       "\\item TRUE\n",
       "\\item TRUE\n",
       "\\item FALSE\n",
       "\\item TRUE\n",
       "\\item TRUE\n",
       "\\item TRUE\n",
       "\\item FALSE\n",
       "\\item TRUE\n",
       "\\item TRUE\n",
       "\\item TRUE\n",
       "\\end{enumerate*}\n"
      ],
      "text/markdown": [
       "1. TRUE\n",
       "2. TRUE\n",
       "3. TRUE\n",
       "4. TRUE\n",
       "5. TRUE\n",
       "6. TRUE\n",
       "7. TRUE\n",
       "8. TRUE\n",
       "9. TRUE\n",
       "10. TRUE\n",
       "11. TRUE\n",
       "12. FALSE\n",
       "13. TRUE\n",
       "14. TRUE\n",
       "15. FALSE\n",
       "16. TRUE\n",
       "17. FALSE\n",
       "18. FALSE\n",
       "19. FALSE\n",
       "20. TRUE\n",
       "21. TRUE\n",
       "22. TRUE\n",
       "23. TRUE\n",
       "24. FALSE\n",
       "25. TRUE\n",
       "26. TRUE\n",
       "27. TRUE\n",
       "28. FALSE\n",
       "29. TRUE\n",
       "30. TRUE\n",
       "31. TRUE\n",
       "\n",
       "\n"
      ],
      "text/plain": [
       " [1]  TRUE  TRUE  TRUE  TRUE  TRUE  TRUE  TRUE  TRUE  TRUE  TRUE  TRUE FALSE\n",
       "[13]  TRUE  TRUE FALSE  TRUE FALSE FALSE FALSE  TRUE  TRUE  TRUE  TRUE FALSE\n",
       "[25]  TRUE  TRUE  TRUE FALSE  TRUE  TRUE  TRUE"
      ]
     },
     "metadata": {},
     "output_type": "display_data"
    }
   ],
   "source": [
    "# Spliting the data for train and test dataset\n",
    "\n",
    "split <- sample.split(mydata, SplitRatio = 0.8)\n",
    "split\n",
    "\n",
    "mydata_train <- subset(mydata, split == TRUE)\n",
    "mydata_test <- subset(mydata, split == FALSE)"
   ]
  },
  {
   "cell_type": "markdown",
   "metadata": {},
   "source": [
    "## Model Regresji Logistycznej (Logit) ze wszystkimi zmiennymi"
   ]
  },
  {
   "cell_type": "markdown",
   "metadata": {},
   "source": [
    "Korzystamy z modelu Regresji Logistycznej, by zobaczyć, które z predyktorów są istotne:"
   ]
  },
  {
   "cell_type": "code",
   "execution_count": 16,
   "metadata": {},
   "outputs": [
    {
     "name": "stderr",
     "output_type": "stream",
     "text": [
      "Warning message:\n",
      "\"glm.fit: algorithm did not converge\"\n",
      "Warning message:\n",
      "\"glm.fit: fitted probabilities numerically 0 or 1 occurred\"\n"
     ]
    },
    {
     "data": {
      "text/plain": [
       "\n",
       "Call:\n",
       "glm(formula = Diagnosis ~ ., family = binomial(link = \"logit\"), \n",
       "    data = mydata_train)\n",
       "\n",
       "Deviance Residuals: \n",
       "       Min          1Q      Median          3Q         Max  \n",
       "-1.259e-04  -2.100e-08  -2.100e-08   2.100e-08   1.306e-04  \n",
       "\n",
       "Coefficients:\n",
       "              Estimate Std. Error z value Pr(>|z|)\n",
       "(Intercept) -1.386e+03  1.771e+06  -0.001    0.999\n",
       "V1          -2.457e+02  8.569e+05   0.000    1.000\n",
       "V2          -2.488e+00  7.134e+03   0.000    1.000\n",
       "V3           3.765e+01  7.307e+04   0.001    1.000\n",
       "V4           1.258e-01  4.269e+03   0.000    1.000\n",
       "V5           1.779e+03  8.908e+06   0.000    1.000\n",
       "V6          -1.887e+03  3.609e+06  -0.001    1.000\n",
       "V7           1.289e+03  4.728e+06   0.000    1.000\n",
       "V8          -1.509e+03  1.983e+06  -0.001    0.999\n",
       "V9           3.972e+02  2.692e+06   0.000    1.000\n",
       "V10          3.543e+03  1.384e+07   0.000    1.000\n",
       "V11         -1.357e+02  7.762e+05   0.000    1.000\n",
       "V12         -8.955e+01  8.141e+04  -0.001    0.999\n",
       "V13          2.010e+00  1.135e+05   0.000    1.000\n",
       "V14          3.875e+00  8.043e+03   0.000    1.000\n",
       "V15          1.274e+04  3.726e+07   0.000    1.000\n",
       "V16          6.723e+03  4.843e+06   0.001    0.999\n",
       "V17         -5.736e+03  5.095e+06  -0.001    0.999\n",
       "V18          7.140e+03  7.362e+06   0.001    0.999\n",
       "V19         -6.256e+03  4.281e+06  -0.001    0.999\n",
       "V20         -2.214e+04  4.572e+07   0.000    1.000\n",
       "V21          9.942e+01  2.227e+05   0.000    1.000\n",
       "V22          1.251e+01  6.147e+03   0.002    0.998\n",
       "V23         -4.586e+00  1.814e+04   0.000    1.000\n",
       "V24         -6.235e-01  2.419e+03   0.000    1.000\n",
       "V25         -3.638e+02  6.272e+06   0.000    1.000\n",
       "V26         -5.770e+02  1.546e+06   0.000    1.000\n",
       "V27          5.008e+02  1.461e+06   0.000    1.000\n",
       "V28          4.037e+02  1.201e+06   0.000    1.000\n",
       "V29          8.298e+02  9.433e+05   0.001    0.999\n",
       "V30         -7.147e+02  7.837e+06   0.000    1.000\n",
       "\n",
       "(Dispersion parameter for binomial family taken to be 1)\n",
       "\n",
       "    Null deviance: 5.8300e+02  on 441  degrees of freedom\n",
       "Residual deviance: 1.2696e-07  on 411  degrees of freedom\n",
       "  (1 observation deleted due to missingness)\n",
       "AIC: 62\n",
       "\n",
       "Number of Fisher Scoring iterations: 25\n"
      ]
     },
     "metadata": {},
     "output_type": "display_data"
    }
   ],
   "source": [
    "# Logistic Regression Model(Logit) with all variables\n",
    "\n",
    "set.seed(1234)\n",
    "mydata_model_logit <- glm(data = mydata_train, formula = Diagnosis ~ ., family = binomial(link = \"logit\"))\n",
    "summary(mydata_model_logit)"
   ]
  },
  {
   "cell_type": "markdown",
   "metadata": {},
   "source": [
    "Żaden z predyktorów nie jest istotny, a model nie daje żadnych wyników. By zbadać, które z predyktorów są istotne moglibyśmy zastosować Regresję Krokową. Nie zrobimy tego, ponieważ mamy za dużo zmiennych. "
   ]
  },
  {
   "cell_type": "code",
   "execution_count": 17,
   "metadata": {},
   "outputs": [],
   "source": [
    "# None of the predictors are signficant.\n",
    "# Stepwise Regression? Too many variables."
   ]
  },
  {
   "cell_type": "markdown",
   "metadata": {},
   "source": [
    "## Współliniowość zmiennych"
   ]
  },
  {
   "cell_type": "markdown",
   "metadata": {},
   "source": [
    "Badamy wpsółliniowość predyktorów."
   ]
  },
  {
   "cell_type": "code",
   "execution_count": 18,
   "metadata": {},
   "outputs": [
    {
     "data": {
      "text/plain": [
       "\n",
       "Call:\n",
       "omcdiag(mod = glm(formula = Diagnosis ~ ., data = mydata))\n",
       "\n",
       "\n",
       "Overall Multicollinearity Diagnostics\n",
       "\n",
       "                       MC Results detection\n",
       "Determinant |X'X|:         0.0000         1\n",
       "Farrar Chi-Square:     39705.7338         1\n",
       "Red Indicator:             0.4806         0\n",
       "Sum of Lambda Inverse: 10057.3209         1\n",
       "Theil's Method:            5.6112         1\n",
       "Condition Number:       1808.0709         1\n",
       "\n",
       "1 --> COLLINEARITY is detected by the test \n",
       "0 --> COLLINEARITY is not detected by the test\n"
      ]
     },
     "metadata": {},
     "output_type": "display_data"
    }
   ],
   "source": [
    "mydata$Diagnosis <- as.numeric(mydata$Diagnosis)\n",
    "\n",
    "omcdiag(glm(formula = Diagnosis ~ ., data = mydata))"
   ]
  },
  {
   "cell_type": "markdown",
   "metadata": {},
   "source": [
    "Oszacowana wartość statystyki Chi-kwadrat wynosi ``` 39705.7338``` - jest ona bardzo istotna, co sugeruje obecność współliniowości w modelu. By zlokalizować współliniowość stosujemy test Farrara–Glaubera. Kolumny ```VIF```, ```TOL``` oraz ```Wi``` zapewniają dane diagnostyczne odpowiednio dla współczynnika współliniowości, tolerancji i testu F Farrara-Glaubera."
   ]
  },
  {
   "cell_type": "code",
   "execution_count": 19,
   "metadata": {
    "scrolled": false
   },
   "outputs": [
    {
     "data": {
      "text/plain": [
       "\n",
       "Call:\n",
       "imcdiag(mod = glm(formula = Diagnosis ~ ., data = mydata))\n",
       "\n",
       "\n",
       "All Individual Multicollinearity Diagnostics Result\n",
       "\n",
       "          VIF    TOL         Wi         Fi Leamer      CVIF Klein   IND1   IND2\n",
       "V1  3649.5395 0.0003 67560.8874 70104.0813 0.0166 -105.6338     1 0.0000 1.0699\n",
       "V2    12.0360 0.0831   204.3562   212.0488 0.2882   -0.3484     1 0.0045 0.9812\n",
       "V3  3623.9742 0.0003 67087.4884 69612.8621 0.0166 -104.8938     1 0.0000 1.0699\n",
       "V4   381.5016 0.0026  7045.8402  7311.0667 0.0512  -11.0423     1 0.0001 1.0674\n",
       "V5     8.2527 0.1212   134.3005   139.3560 0.3481   -0.2389     1 0.0065 0.9405\n",
       "V6    50.2638 0.0199   912.2288   946.5679 0.1410   -1.4549     1 0.0011 1.0489\n",
       "V7    68.2390 0.0147  1245.0810  1291.9496 0.1211   -1.9751     1 0.0008 1.0545\n",
       "V8    58.5660 0.0171  1065.9627  1106.0887 0.1307   -1.6952     1 0.0009 1.0519\n",
       "V9     4.2165 0.2372    59.5600    61.8020 0.4870   -0.1220     0 0.0128 0.8164\n",
       "V10   15.7173 0.0636   272.5246   282.7832 0.2522   -0.4549     1 0.0034 1.0021\n",
       "V11   80.8893 0.0124  1479.3291  1535.0155 0.1112   -2.3413     1 0.0007 1.0569\n",
       "V12    4.3563 0.2296    62.1493    64.4888 0.4791   -0.1261     0 0.0124 0.8245\n",
       "V13   56.4386 0.0177  1026.5693  1065.2124 0.1331   -1.6336     1 0.0010 1.0512\n",
       "V14   62.9371 0.0159  1146.9041  1190.0770 0.1261   -1.8217     1 0.0009 1.0532\n",
       "V15    4.0269 0.2483    56.0496    58.1595 0.4983   -0.1166     0 0.0134 0.8044\n",
       "V16   16.7208 0.0598   291.1065   302.0646 0.2446   -0.4840     1 0.0032 1.0062\n",
       "V17   15.8941 0.0629   275.7973   286.1791 0.2508   -0.4600     1 0.0034 1.0028\n",
       "V18   12.1001 0.0826   205.5441   213.2814 0.2875   -0.3502     1 0.0045 0.9817\n",
       "V19    5.2049 0.1921    77.8629    80.7939 0.4383   -0.1507     1 0.0104 0.8646\n",
       "V20   10.3629 0.0965   173.3749   179.9012 0.3106   -0.2999     1 0.0052 0.9669\n",
       "V21  918.2496 0.0011 16984.9315 17624.2951 0.0330  -26.5782     1 0.0001 1.0690\n",
       "V22   18.9208 0.0529   331.8435   344.3351 0.2299   -0.5477     1 0.0029 1.0136\n",
       "V23  416.5139 0.0024  7694.1706  7983.8022 0.0490  -12.0558     1 0.0001 1.0676\n",
       "V24  415.0124 0.0024  7666.3676  7954.9526 0.0491  -12.0123     1 0.0001 1.0676\n",
       "V25   10.9965 0.0909   185.1067   192.0747 0.3016   -0.3183     1 0.0049 0.9728\n",
       "V26   38.6650 0.0259   697.4527   723.7069 0.1608   -1.1191     1 0.0014 1.0425\n",
       "V27   32.0294 0.0312   574.5795   596.2084 0.1767   -0.9271     1 0.0017 1.0368\n",
       "V28   36.7309 0.0272   661.6375   686.5436 0.1650   -1.0632     1 0.0015 1.0410\n",
       "V29    9.6777 0.1033   160.6868   166.7355 0.3215   -0.2801     1 0.0056 0.9596\n",
       "V30   19.2872 0.0518   338.6277   351.3747 0.2277   -0.5583     1 0.0028 1.0147\n",
       "\n",
       "1 --> COLLINEARITY is detected by the test \n",
       "0 --> COLLINEARITY is not detected by the test\n",
       "\n",
       "V1 , V2 , V3 , V4 , V5 , V7 , V8 , V9 , V10 , V11 , V12 , V13 , V14 , V16 , V18 , V19 , V20 , V22 , V23 , V25 , V26 , V27 , V28 , V29 , V30 , coefficient(s) are non-significant may be due to multicollinearity\n",
       "\n",
       "R-square of y on all x: 0.7732 \n",
       "\n",
       "* use method argument to check which regressors may be the reason of collinearity\n",
       "==================================="
      ]
     },
     "metadata": {},
     "output_type": "display_data"
    }
   ],
   "source": [
    "imcdiag(glm(formula = Diagnosis ~ ., data = mydata))"
   ]
  },
  {
   "cell_type": "markdown",
   "metadata": {},
   "source": [
    "Z testu widzimy, że statystyka F dla zmiennych ```V1```, ```V3``` są bardzo wysokie - rzędu 3 tys, a wartości w kolumnie ```Klein``` równe 1. Oznacza to, że test wykrył współliniowość. Zatem test pokazuje, że zmienna ```V1``` lub ```V3``` będzie jedną z przyczyn współliniowości. Usuwamy je z modelu. W następnych krokach dokonujemy tego samego kryterium eliminacji zmiennych: wartość w kolumnie ```VIF > 10``` a wartości w kolumnie ```Klein``` równe 1. Usuwamy predyktory pojedynczo."
   ]
  },
  {
   "cell_type": "code",
   "execution_count": 20,
   "metadata": {
    "scrolled": false
   },
   "outputs": [
    {
     "data": {
      "text/plain": [
       "\n",
       "Call:\n",
       "imcdiag(mod = glm(formula = Diagnosis ~ . - V1 - V21 - V3 - V23 - \n",
       "    V7 - V24 - V11 - V26 - V28 - V8 - V22 - V14 - V6 - V30, data = mydata))\n",
       "\n",
       "\n",
       "All Individual Multicollinearity Diagnostics Result\n",
       "\n",
       "       VIF    TOL       Wi       Fi Leamer    CVIF Klein   IND1   IND2\n",
       "V2  1.6917 0.5911  25.4090  27.2734 0.7688 -0.3142     0 0.0161 0.5405\n",
       "V4  4.7143 0.2121 136.4373 146.4482 0.4606 -0.8755     1 0.0058 1.0415\n",
       "V5  5.8568 0.1707 178.4050 191.4952 0.4132 -1.0876     1 0.0046 1.0962\n",
       "V9  3.4933 0.2863  91.5860  98.3060 0.5350 -0.6487     0 0.0078 0.9435\n",
       "V10 5.3535 0.1868 159.9174 171.6510 0.4322 -0.9942     1 0.0051 1.0749\n",
       "V12 2.0731 0.4824  39.4201  42.3125 0.6945 -0.3850     0 0.0131 0.6843\n",
       "V13 3.5896 0.2786  95.1234 102.1029 0.5278 -0.6666     0 0.0076 0.9536\n",
       "V15 3.2821 0.3047  83.8303  89.9812 0.5520 -0.6095     0 0.0083 0.9191\n",
       "V16 6.2585 0.1598 193.1631 207.3361 0.3997 -1.1622     1 0.0043 1.1107\n",
       "V17 6.1974 0.1614 190.9187 204.9270 0.4017 -1.1509     1 0.0044 1.1086\n",
       "V18 4.3051 0.2323 121.4068 130.3148 0.4820 -0.7995     1 0.0063 1.0148\n",
       "V19 3.8862 0.2573 106.0198 113.7988 0.5073 -0.7217     1 0.0070 0.9817\n",
       "V20 5.5323 0.1808 166.4849 178.7004 0.4252 -1.0274     1 0.0049 1.0829\n",
       "V25 8.3161 0.1202 268.7451 288.4637 0.3468 -1.5443     1 0.0033 1.1629\n",
       "V27 8.4715 0.1180 274.4545 294.5920 0.3436 -1.5732     1 0.0032 1.1658\n",
       "V29 6.5169 0.1534 202.6557 217.5251 0.3917 -1.2102     1 0.0042 1.1190\n",
       "\n",
       "1 --> COLLINEARITY is detected by the test \n",
       "0 --> COLLINEARITY is not detected by the test\n",
       "\n",
       "V5 , V9 , V12 , V15 , V19 , V25 , coefficient(s) are non-significant may be due to multicollinearity\n",
       "\n",
       "R-square of y on all x: 0.7377 \n",
       "\n",
       "* use method argument to check which regressors may be the reason of collinearity\n",
       "==================================="
      ]
     },
     "metadata": {},
     "output_type": "display_data"
    }
   ],
   "source": [
    "imcdiag(glm(formula = Diagnosis ~ . - V1 - V21 - V3 - V23 - V7 - V24 - V11 - V26 - V28 - V8 - V22 - V14 - V6 - V30, data = mydata))"
   ]
  },
  {
   "cell_type": "code",
   "execution_count": 21,
   "metadata": {
    "scrolled": false
   },
   "outputs": [
    {
     "name": "stderr",
     "output_type": "stream",
     "text": [
      "Warning message:\n",
      "\"glm.fit: fitted probabilities numerically 0 or 1 occurred\"\n"
     ]
    },
    {
     "data": {
      "text/plain": [
       "\n",
       "Call:\n",
       "glm(formula = Diagnosis ~ . - V1 - V21 - V3 - V23 - V7 - V24 - \n",
       "    V11 - V26 - V28 - V8 - V22 - V14 - V6 - V30, family = binomial(link = \"logit\"), \n",
       "    data = mydata_train)\n",
       "\n",
       "Deviance Residuals: \n",
       "     Min        1Q    Median        3Q       Max  \n",
       "-2.04450  -0.00019   0.00000   0.00000   2.64904  \n",
       "\n",
       "Coefficients:\n",
       "              Estimate Std. Error z value Pr(>|z|)  \n",
       "(Intercept) -8.453e+01  4.014e+01  -2.106   0.0352 *\n",
       "V2           1.283e+00  5.424e-01   2.366   0.0180 *\n",
       "V4           4.024e-02  1.742e-02   2.309   0.0209 *\n",
       "V5           5.052e+01  1.664e+02   0.304   0.7614  \n",
       "V9           1.147e+02  8.578e+01   1.337   0.1812  \n",
       "V10         -4.275e+02  2.909e+02  -1.470   0.1417  \n",
       "V12         -1.659e+00  1.725e+00  -0.962   0.3362  \n",
       "V13          3.030e+00  1.570e+00   1.930   0.0536 .\n",
       "V15          1.349e+03  9.546e+02   1.413   0.1577  \n",
       "V16         -3.580e+01  1.123e+02  -0.319   0.7499  \n",
       "V17         -5.304e+02  3.201e+02  -1.657   0.0976 .\n",
       "V18         -3.907e+01  2.875e+02  -0.136   0.8919  \n",
       "V19          3.146e+01  2.353e+02   0.134   0.8936  \n",
       "V20         -1.068e+03  1.139e+03  -0.937   0.3486  \n",
       "V25          3.889e+01  1.121e+02   0.347   0.7287  \n",
       "V27          9.008e+01  4.135e+01   2.178   0.0294 *\n",
       "V29          2.714e+01  3.326e+01   0.816   0.4145  \n",
       "---\n",
       "Signif. codes:  0 '***' 0.001 '**' 0.01 '*' 0.05 '.' 0.1 ' ' 1\n",
       "\n",
       "(Dispersion parameter for binomial family taken to be 1)\n",
       "\n",
       "    Null deviance: 583.004  on 441  degrees of freedom\n",
       "Residual deviance:  25.912  on 425  degrees of freedom\n",
       "  (1 observation deleted due to missingness)\n",
       "AIC: 59.912\n",
       "\n",
       "Number of Fisher Scoring iterations: 13\n"
      ]
     },
     "metadata": {},
     "output_type": "display_data"
    }
   ],
   "source": [
    "set.seed(1234)\n",
    "mydata_model_logit <- glm(data = mydata_train, formula = Diagnosis ~ . - V1 - V21 - V3 - V23 - V7 - V24 - V11 - V26 - V28\n",
    "                          - V8 - V22 - V14 - V6 - V30,\n",
    "                          family = binomial(link = \"logit\"))\n",
    "summary(mydata_model_logit)"
   ]
  },
  {
   "cell_type": "markdown",
   "metadata": {},
   "source": [
    "Po wyeliminowaniu 10 zmiennych możemy zobaczyć na modelu regresji liniowej, że otrzymaliśmy 6 zmiennych istotnych na 10% poziomie istotności - ```V2```, ```V4```, ```V13```, ```V16```, ```V18``` i ```V27```.  Dokonujemy dalszego ulepszania modelu. Możemy w tym celu użyć metody Regresji krokowej:"
   ]
  },
  {
   "cell_type": "code",
   "execution_count": 22,
   "metadata": {
    "scrolled": true
   },
   "outputs": [
    {
     "name": "stderr",
     "output_type": "stream",
     "text": [
      "Warning message:\n",
      "\"glm.fit: fitted probabilities numerically 0 or 1 occurred\"\n"
     ]
    },
    {
     "name": "stdout",
     "output_type": "stream",
     "text": [
      "Start:  AIC=59.91\n",
      "Diagnosis ~ V2 + V4 + V5 + V9 + V10 + V12 + V13 + V15 + V16 + \n",
      "    V17 + V18 + V19 + V20 + V25 + V27 + V29\n",
      "\n"
     ]
    },
    {
     "name": "stderr",
     "output_type": "stream",
     "text": [
      "Warning message:\n",
      "\"glm.fit: fitted probabilities numerically 0 or 1 occurred\"\n",
      "Warning message:\n",
      "\"glm.fit: fitted probabilities numerically 0 or 1 occurred\"\n",
      "Warning message:\n",
      "\"glm.fit: fitted probabilities numerically 0 or 1 occurred\"\n",
      "Warning message:\n",
      "\"glm.fit: fitted probabilities numerically 0 or 1 occurred\"\n",
      "Warning message:\n",
      "\"glm.fit: fitted probabilities numerically 0 or 1 occurred\"\n",
      "Warning message:\n",
      "\"glm.fit: fitted probabilities numerically 0 or 1 occurred\"\n",
      "Warning message:\n",
      "\"glm.fit: fitted probabilities numerically 0 or 1 occurred\"\n",
      "Warning message:\n",
      "\"glm.fit: fitted probabilities numerically 0 or 1 occurred\"\n",
      "Warning message:\n",
      "\"glm.fit: fitted probabilities numerically 0 or 1 occurred\"\n",
      "Warning message:\n",
      "\"glm.fit: fitted probabilities numerically 0 or 1 occurred\"\n",
      "Warning message:\n",
      "\"glm.fit: fitted probabilities numerically 0 or 1 occurred\"\n",
      "Warning message:\n",
      "\"glm.fit: fitted probabilities numerically 0 or 1 occurred\"\n",
      "Warning message:\n",
      "\"glm.fit: fitted probabilities numerically 0 or 1 occurred\"\n",
      "Warning message:\n",
      "\"glm.fit: fitted probabilities numerically 0 or 1 occurred\"\n",
      "Warning message:\n",
      "\"glm.fit: fitted probabilities numerically 0 or 1 occurred\"\n",
      "Warning message:\n",
      "\"glm.fit: fitted probabilities numerically 0 or 1 occurred\"\n"
     ]
    },
    {
     "name": "stdout",
     "output_type": "stream",
     "text": [
      "       Df Deviance    AIC\n",
      "- V19   1   25.930 57.930\n",
      "- V18   1   25.931 57.931\n",
      "- V5    1   26.001 58.001\n",
      "- V16   1   26.017 58.017\n",
      "- V25   1   26.039 58.039\n",
      "- V29   1   26.554 58.554\n",
      "- V12   1   26.898 58.898\n",
      "- V20   1   26.976 58.976\n",
      "- V15   1   27.684 59.684\n",
      "<none>      25.912 59.912\n",
      "- V10   1   28.118 60.118\n",
      "- V9    1   28.560 60.560\n",
      "- V17   1   32.407 64.407\n",
      "- V13   1   36.195 68.195\n",
      "- V27   1   44.672 76.672\n",
      "- V2    1   51.751 83.751\n",
      "- V4    1   64.203 96.203\n"
     ]
    },
    {
     "name": "stderr",
     "output_type": "stream",
     "text": [
      "Warning message:\n",
      "\"glm.fit: fitted probabilities numerically 0 or 1 occurred\"\n"
     ]
    },
    {
     "name": "stdout",
     "output_type": "stream",
     "text": [
      "\n",
      "Step:  AIC=57.93\n",
      "Diagnosis ~ V2 + V4 + V5 + V9 + V10 + V12 + V13 + V15 + V16 + \n",
      "    V17 + V18 + V20 + V25 + V27 + V29\n",
      "\n"
     ]
    },
    {
     "name": "stderr",
     "output_type": "stream",
     "text": [
      "Warning message:\n",
      "\"glm.fit: fitted probabilities numerically 0 or 1 occurred\"\n",
      "Warning message:\n",
      "\"glm.fit: fitted probabilities numerically 0 or 1 occurred\"\n",
      "Warning message:\n",
      "\"glm.fit: fitted probabilities numerically 0 or 1 occurred\"\n",
      "Warning message:\n",
      "\"glm.fit: fitted probabilities numerically 0 or 1 occurred\"\n",
      "Warning message:\n",
      "\"glm.fit: fitted probabilities numerically 0 or 1 occurred\"\n",
      "Warning message:\n",
      "\"glm.fit: fitted probabilities numerically 0 or 1 occurred\"\n",
      "Warning message:\n",
      "\"glm.fit: fitted probabilities numerically 0 or 1 occurred\"\n",
      "Warning message:\n",
      "\"glm.fit: fitted probabilities numerically 0 or 1 occurred\"\n",
      "Warning message:\n",
      "\"glm.fit: fitted probabilities numerically 0 or 1 occurred\"\n",
      "Warning message:\n",
      "\"glm.fit: fitted probabilities numerically 0 or 1 occurred\"\n",
      "Warning message:\n",
      "\"glm.fit: fitted probabilities numerically 0 or 1 occurred\"\n",
      "Warning message:\n",
      "\"glm.fit: fitted probabilities numerically 0 or 1 occurred\"\n",
      "Warning message:\n",
      "\"glm.fit: fitted probabilities numerically 0 or 1 occurred\"\n",
      "Warning message:\n",
      "\"glm.fit: fitted probabilities numerically 0 or 1 occurred\"\n",
      "Warning message:\n",
      "\"glm.fit: fitted probabilities numerically 0 or 1 occurred\"\n",
      "Warning message:\n",
      "\"glm.fit: fitted probabilities numerically 0 or 1 occurred\"\n",
      "Warning message:\n",
      "\"glm.fit: fitted probabilities numerically 0 or 1 occurred\"\n"
     ]
    },
    {
     "name": "stdout",
     "output_type": "stream",
     "text": [
      "       Df Deviance    AIC\n",
      "- V18   1   25.950 55.950\n",
      "- V25   1   26.040 56.040\n",
      "- V5    1   26.083 56.083\n",
      "- V16   1   26.087 56.087\n",
      "- V12   1   26.917 56.917\n",
      "- V20   1   26.980 56.980\n",
      "<none>      25.930 57.930\n",
      "- V10   1   28.269 58.269\n",
      "- V15   1   28.302 58.302\n",
      "- V9    1   28.640 58.640\n",
      "- V29   1   29.372 59.372\n",
      "+ V19   1   25.912 59.912\n",
      "- V17   1   32.941 62.941\n",
      "- V13   1   37.974 67.974\n",
      "- V27   1   45.167 75.167\n",
      "- V2    1   51.945 81.945\n",
      "- V4    1   65.069 95.069\n"
     ]
    },
    {
     "name": "stderr",
     "output_type": "stream",
     "text": [
      "Warning message:\n",
      "\"glm.fit: fitted probabilities numerically 0 or 1 occurred\"\n"
     ]
    },
    {
     "name": "stdout",
     "output_type": "stream",
     "text": [
      "\n",
      "Step:  AIC=55.95\n",
      "Diagnosis ~ V2 + V4 + V5 + V9 + V10 + V12 + V13 + V15 + V16 + \n",
      "    V17 + V20 + V25 + V27 + V29\n",
      "\n"
     ]
    },
    {
     "name": "stderr",
     "output_type": "stream",
     "text": [
      "Warning message:\n",
      "\"glm.fit: fitted probabilities numerically 0 or 1 occurred\"\n",
      "Warning message:\n",
      "\"glm.fit: fitted probabilities numerically 0 or 1 occurred\"\n",
      "Warning message:\n",
      "\"glm.fit: fitted probabilities numerically 0 or 1 occurred\"\n",
      "Warning message:\n",
      "\"glm.fit: fitted probabilities numerically 0 or 1 occurred\"\n",
      "Warning message:\n",
      "\"glm.fit: fitted probabilities numerically 0 or 1 occurred\"\n",
      "Warning message:\n",
      "\"glm.fit: fitted probabilities numerically 0 or 1 occurred\"\n",
      "Warning message:\n",
      "\"glm.fit: fitted probabilities numerically 0 or 1 occurred\"\n",
      "Warning message:\n",
      "\"glm.fit: fitted probabilities numerically 0 or 1 occurred\"\n",
      "Warning message:\n",
      "\"glm.fit: fitted probabilities numerically 0 or 1 occurred\"\n",
      "Warning message:\n",
      "\"glm.fit: fitted probabilities numerically 0 or 1 occurred\"\n",
      "Warning message:\n",
      "\"glm.fit: fitted probabilities numerically 0 or 1 occurred\"\n",
      "Warning message:\n",
      "\"glm.fit: fitted probabilities numerically 0 or 1 occurred\"\n",
      "Warning message:\n",
      "\"glm.fit: fitted probabilities numerically 0 or 1 occurred\"\n",
      "Warning message:\n",
      "\"glm.fit: fitted probabilities numerically 0 or 1 occurred\"\n",
      "Warning message:\n",
      "\"glm.fit: fitted probabilities numerically 0 or 1 occurred\"\n",
      "Warning message:\n",
      "\"glm.fit: fitted probabilities numerically 0 or 1 occurred\"\n",
      "Warning message:\n",
      "\"glm.fit: fitted probabilities numerically 0 or 1 occurred\"\n"
     ]
    },
    {
     "name": "stdout",
     "output_type": "stream",
     "text": [
      "       Df Deviance    AIC\n",
      "- V25   1   26.048 54.048\n",
      "- V16   1   26.109 54.109\n",
      "- V5    1   26.143 54.143\n",
      "- V20   1   26.980 54.980\n",
      "- V12   1   27.035 55.035\n",
      "<none>      25.950 55.950\n",
      "- V10   1   28.269 56.269\n",
      "- V15   1   28.939 56.939\n",
      "- V29   1   29.389 57.389\n",
      "- V9    1   29.443 57.443\n",
      "+ V18   1   25.930 57.930\n",
      "+ V19   1   25.931 57.931\n",
      "- V17   1   33.090 61.090\n",
      "- V13   1   43.205 71.205\n",
      "- V27   1   45.934 73.934\n",
      "- V2    1   53.756 81.756\n",
      "- V4    1   68.335 96.335\n"
     ]
    },
    {
     "name": "stderr",
     "output_type": "stream",
     "text": [
      "Warning message:\n",
      "\"glm.fit: fitted probabilities numerically 0 or 1 occurred\"\n"
     ]
    },
    {
     "name": "stdout",
     "output_type": "stream",
     "text": [
      "\n",
      "Step:  AIC=54.05\n",
      "Diagnosis ~ V2 + V4 + V5 + V9 + V10 + V12 + V13 + V15 + V16 + \n",
      "    V17 + V20 + V27 + V29\n",
      "\n"
     ]
    },
    {
     "name": "stderr",
     "output_type": "stream",
     "text": [
      "Warning message:\n",
      "\"glm.fit: fitted probabilities numerically 0 or 1 occurred\"\n",
      "Warning message:\n",
      "\"glm.fit: fitted probabilities numerically 0 or 1 occurred\"\n",
      "Warning message:\n",
      "\"glm.fit: fitted probabilities numerically 0 or 1 occurred\"\n",
      "Warning message:\n",
      "\"glm.fit: fitted probabilities numerically 0 or 1 occurred\"\n",
      "Warning message:\n",
      "\"glm.fit: fitted probabilities numerically 0 or 1 occurred\"\n",
      "Warning message:\n",
      "\"glm.fit: fitted probabilities numerically 0 or 1 occurred\"\n",
      "Warning message:\n",
      "\"glm.fit: fitted probabilities numerically 0 or 1 occurred\"\n",
      "Warning message:\n",
      "\"glm.fit: fitted probabilities numerically 0 or 1 occurred\"\n",
      "Warning message:\n",
      "\"glm.fit: fitted probabilities numerically 0 or 1 occurred\"\n",
      "Warning message:\n",
      "\"glm.fit: fitted probabilities numerically 0 or 1 occurred\"\n",
      "Warning message:\n",
      "\"glm.fit: fitted probabilities numerically 0 or 1 occurred\"\n",
      "Warning message:\n",
      "\"glm.fit: fitted probabilities numerically 0 or 1 occurred\"\n",
      "Warning message:\n",
      "\"glm.fit: fitted probabilities numerically 0 or 1 occurred\"\n",
      "Warning message:\n",
      "\"glm.fit: fitted probabilities numerically 0 or 1 occurred\"\n",
      "Warning message:\n",
      "\"glm.fit: fitted probabilities numerically 0 or 1 occurred\"\n",
      "Warning message:\n",
      "\"glm.fit: fitted probabilities numerically 0 or 1 occurred\"\n",
      "Warning message:\n",
      "\"glm.fit: fitted probabilities numerically 0 or 1 occurred\"\n"
     ]
    },
    {
     "name": "stdout",
     "output_type": "stream",
     "text": [
      "       Df Deviance     AIC\n",
      "- V16   1   26.158  52.158\n",
      "- V20   1   27.081  53.081\n",
      "- V12   1   27.100  53.100\n",
      "- V5    1   27.389  53.389\n",
      "<none>      26.048  54.048\n",
      "- V10   1   29.158  55.158\n",
      "- V9    1   29.490  55.490\n",
      "- V29   1   29.886  55.886\n",
      "+ V25   1   25.950  55.950\n",
      "+ V18   1   26.040  56.040\n",
      "+ V19   1   26.048  56.048\n",
      "- V15   1   31.904  57.904\n",
      "- V17   1   43.025  69.025\n",
      "- V13   1   43.700  69.700\n",
      "- V2    1   54.689  80.689\n",
      "- V4    1   68.435  94.435\n",
      "- V27   1   76.877 102.877\n"
     ]
    },
    {
     "name": "stderr",
     "output_type": "stream",
     "text": [
      "Warning message:\n",
      "\"glm.fit: fitted probabilities numerically 0 or 1 occurred\"\n"
     ]
    },
    {
     "name": "stdout",
     "output_type": "stream",
     "text": [
      "\n",
      "Step:  AIC=52.16\n",
      "Diagnosis ~ V2 + V4 + V5 + V9 + V10 + V12 + V13 + V15 + V17 + \n",
      "    V20 + V27 + V29\n",
      "\n"
     ]
    },
    {
     "name": "stderr",
     "output_type": "stream",
     "text": [
      "Warning message:\n",
      "\"glm.fit: fitted probabilities numerically 0 or 1 occurred\"\n",
      "Warning message:\n",
      "\"glm.fit: fitted probabilities numerically 0 or 1 occurred\"\n",
      "Warning message:\n",
      "\"glm.fit: fitted probabilities numerically 0 or 1 occurred\"\n",
      "Warning message:\n",
      "\"glm.fit: fitted probabilities numerically 0 or 1 occurred\"\n",
      "Warning message:\n",
      "\"glm.fit: fitted probabilities numerically 0 or 1 occurred\"\n",
      "Warning message:\n",
      "\"glm.fit: fitted probabilities numerically 0 or 1 occurred\"\n",
      "Warning message:\n",
      "\"glm.fit: fitted probabilities numerically 0 or 1 occurred\"\n",
      "Warning message:\n",
      "\"glm.fit: fitted probabilities numerically 0 or 1 occurred\"\n",
      "Warning message:\n",
      "\"glm.fit: fitted probabilities numerically 0 or 1 occurred\"\n",
      "Warning message:\n",
      "\"glm.fit: fitted probabilities numerically 0 or 1 occurred\"\n",
      "Warning message:\n",
      "\"glm.fit: fitted probabilities numerically 0 or 1 occurred\"\n",
      "Warning message:\n",
      "\"glm.fit: fitted probabilities numerically 0 or 1 occurred\"\n",
      "Warning message:\n",
      "\"glm.fit: fitted probabilities numerically 0 or 1 occurred\"\n",
      "Warning message:\n",
      "\"glm.fit: fitted probabilities numerically 0 or 1 occurred\"\n",
      "Warning message:\n",
      "\"glm.fit: fitted probabilities numerically 0 or 1 occurred\"\n",
      "Warning message:\n",
      "\"glm.fit: fitted probabilities numerically 0 or 1 occurred\"\n",
      "Warning message:\n",
      "\"glm.fit: fitted probabilities numerically 0 or 1 occurred\"\n"
     ]
    },
    {
     "name": "stdout",
     "output_type": "stream",
     "text": [
      "       Df Deviance     AIC\n",
      "- V12   1   27.597  51.597\n",
      "- V5    1   27.651  51.651\n",
      "<none>      26.158  52.158\n",
      "- V20   1   28.400  52.400\n",
      "- V10   1   29.238  53.238\n",
      "- V29   1   29.892  53.892\n",
      "+ V16   1   26.048  54.048\n",
      "+ V25   1   26.109  54.109\n",
      "+ V19   1   26.144  54.144\n",
      "+ V18   1   26.149  54.149\n",
      "- V9    1   30.552  54.552\n",
      "- V15   1   33.613  57.613\n",
      "- V13   1   44.188  68.188\n",
      "- V17   1   49.647  73.647\n",
      "- V2    1   56.789  80.789\n",
      "- V4    1   68.733  92.733\n",
      "- V27   1   76.968 100.968\n"
     ]
    },
    {
     "name": "stderr",
     "output_type": "stream",
     "text": [
      "Warning message:\n",
      "\"glm.fit: fitted probabilities numerically 0 or 1 occurred\"\n"
     ]
    },
    {
     "name": "stdout",
     "output_type": "stream",
     "text": [
      "\n",
      "Step:  AIC=51.6\n",
      "Diagnosis ~ V2 + V4 + V5 + V9 + V10 + V13 + V15 + V17 + V20 + \n",
      "    V27 + V29\n",
      "\n"
     ]
    },
    {
     "name": "stderr",
     "output_type": "stream",
     "text": [
      "Warning message:\n",
      "\"glm.fit: fitted probabilities numerically 0 or 1 occurred\"\n",
      "Warning message:\n",
      "\"glm.fit: fitted probabilities numerically 0 or 1 occurred\"\n",
      "Warning message:\n",
      "\"glm.fit: fitted probabilities numerically 0 or 1 occurred\"\n",
      "Warning message:\n",
      "\"glm.fit: fitted probabilities numerically 0 or 1 occurred\"\n",
      "Warning message:\n",
      "\"glm.fit: fitted probabilities numerically 0 or 1 occurred\"\n",
      "Warning message:\n",
      "\"glm.fit: fitted probabilities numerically 0 or 1 occurred\"\n",
      "Warning message:\n",
      "\"glm.fit: fitted probabilities numerically 0 or 1 occurred\"\n",
      "Warning message:\n",
      "\"glm.fit: fitted probabilities numerically 0 or 1 occurred\"\n",
      "Warning message:\n",
      "\"glm.fit: fitted probabilities numerically 0 or 1 occurred\"\n",
      "Warning message:\n",
      "\"glm.fit: fitted probabilities numerically 0 or 1 occurred\"\n",
      "Warning message:\n",
      "\"glm.fit: fitted probabilities numerically 0 or 1 occurred\"\n",
      "Warning message:\n",
      "\"glm.fit: fitted probabilities numerically 0 or 1 occurred\"\n",
      "Warning message:\n",
      "\"glm.fit: fitted probabilities numerically 0 or 1 occurred\"\n",
      "Warning message:\n",
      "\"glm.fit: fitted probabilities numerically 0 or 1 occurred\"\n",
      "Warning message:\n",
      "\"glm.fit: fitted probabilities numerically 0 or 1 occurred\"\n",
      "Warning message:\n",
      "\"glm.fit: fitted probabilities numerically 0 or 1 occurred\"\n",
      "Warning message:\n",
      "\"glm.fit: fitted probabilities numerically 0 or 1 occurred\"\n"
     ]
    },
    {
     "name": "stdout",
     "output_type": "stream",
     "text": [
      "       Df Deviance    AIC\n",
      "- V5    1   29.222 51.222\n",
      "<none>      27.597 51.597\n",
      "- V20   1   29.923 51.923\n",
      "+ V12   1   26.158 52.158\n",
      "- V10   1   30.464 52.464\n",
      "- V9    1   30.706 52.706\n",
      "+ V16   1   27.100 53.100\n",
      "+ V18   1   27.429 53.429\n",
      "+ V19   1   27.529 53.529\n",
      "+ V25   1   27.592 53.592\n",
      "- V29   1   31.765 53.765\n",
      "- V15   1   34.611 56.611\n",
      "- V13   1   44.382 66.382\n",
      "- V17   1   50.792 72.792\n",
      "- V2    1   63.010 85.010\n",
      "- V4    1   70.439 92.439\n",
      "- V27   1   77.456 99.456\n"
     ]
    },
    {
     "name": "stderr",
     "output_type": "stream",
     "text": [
      "Warning message:\n",
      "\"glm.fit: fitted probabilities numerically 0 or 1 occurred\"\n"
     ]
    },
    {
     "name": "stdout",
     "output_type": "stream",
     "text": [
      "\n",
      "Step:  AIC=51.22\n",
      "Diagnosis ~ V2 + V4 + V9 + V10 + V13 + V15 + V17 + V20 + V27 + \n",
      "    V29\n",
      "\n"
     ]
    },
    {
     "name": "stderr",
     "output_type": "stream",
     "text": [
      "Warning message:\n",
      "\"glm.fit: fitted probabilities numerically 0 or 1 occurred\"\n",
      "Warning message:\n",
      "\"glm.fit: fitted probabilities numerically 0 or 1 occurred\"\n",
      "Warning message:\n",
      "\"glm.fit: fitted probabilities numerically 0 or 1 occurred\"\n",
      "Warning message:\n",
      "\"glm.fit: fitted probabilities numerically 0 or 1 occurred\"\n",
      "Warning message:\n",
      "\"glm.fit: fitted probabilities numerically 0 or 1 occurred\"\n",
      "Warning message:\n",
      "\"glm.fit: fitted probabilities numerically 0 or 1 occurred\"\n",
      "Warning message:\n",
      "\"glm.fit: fitted probabilities numerically 0 or 1 occurred\"\n",
      "Warning message:\n",
      "\"glm.fit: fitted probabilities numerically 0 or 1 occurred\"\n",
      "Warning message:\n",
      "\"glm.fit: fitted probabilities numerically 0 or 1 occurred\"\n",
      "Warning message:\n",
      "\"glm.fit: fitted probabilities numerically 0 or 1 occurred\"\n",
      "Warning message:\n",
      "\"glm.fit: fitted probabilities numerically 0 or 1 occurred\"\n",
      "Warning message:\n",
      "\"glm.fit: fitted probabilities numerically 0 or 1 occurred\"\n",
      "Warning message:\n",
      "\"glm.fit: fitted probabilities numerically 0 or 1 occurred\"\n",
      "Warning message:\n",
      "\"glm.fit: fitted probabilities numerically 0 or 1 occurred\"\n",
      "Warning message:\n",
      "\"glm.fit: fitted probabilities numerically 0 or 1 occurred\"\n",
      "Warning message:\n",
      "\"glm.fit: fitted probabilities numerically 0 or 1 occurred\"\n",
      "Warning message:\n",
      "\"glm.fit: fitted probabilities numerically 0 or 1 occurred\"\n"
     ]
    },
    {
     "name": "stdout",
     "output_type": "stream",
     "text": [
      "       Df Deviance     AIC\n",
      "- V10   1   30.711  50.711\n",
      "<none>      29.222  51.222\n",
      "+ V5    1   27.597  51.597\n",
      "+ V12   1   27.651  51.651\n",
      "- V20   1   31.970  51.970\n",
      "+ V25   1   28.213  52.213\n",
      "+ V16   1   28.426  52.426\n",
      "- V29   1   32.651  52.651\n",
      "+ V19   1   28.925  52.925\n",
      "+ V18   1   29.222  53.222\n",
      "- V9    1   33.578  53.578\n",
      "- V15   1   44.771  64.771\n",
      "- V13   1   50.604  70.604\n",
      "- V2    1   63.326  83.326\n",
      "- V17   1   65.321  85.321\n",
      "- V4    1   83.322 103.322\n",
      "- V27   1   93.723 113.723\n"
     ]
    },
    {
     "name": "stderr",
     "output_type": "stream",
     "text": [
      "Warning message:\n",
      "\"glm.fit: fitted probabilities numerically 0 or 1 occurred\"\n"
     ]
    },
    {
     "name": "stdout",
     "output_type": "stream",
     "text": [
      "\n",
      "Step:  AIC=50.71\n",
      "Diagnosis ~ V2 + V4 + V9 + V13 + V15 + V17 + V20 + V27 + V29\n",
      "\n"
     ]
    },
    {
     "name": "stderr",
     "output_type": "stream",
     "text": [
      "Warning message:\n",
      "\"glm.fit: fitted probabilities numerically 0 or 1 occurred\"\n",
      "Warning message:\n",
      "\"glm.fit: fitted probabilities numerically 0 or 1 occurred\"\n",
      "Warning message:\n",
      "\"glm.fit: fitted probabilities numerically 0 or 1 occurred\"\n",
      "Warning message:\n",
      "\"glm.fit: fitted probabilities numerically 0 or 1 occurred\"\n",
      "Warning message:\n",
      "\"glm.fit: fitted probabilities numerically 0 or 1 occurred\"\n",
      "Warning message:\n",
      "\"glm.fit: fitted probabilities numerically 0 or 1 occurred\"\n",
      "Warning message:\n",
      "\"glm.fit: fitted probabilities numerically 0 or 1 occurred\"\n",
      "Warning message:\n",
      "\"glm.fit: fitted probabilities numerically 0 or 1 occurred\"\n",
      "Warning message:\n",
      "\"glm.fit: fitted probabilities numerically 0 or 1 occurred\"\n",
      "Warning message:\n",
      "\"glm.fit: fitted probabilities numerically 0 or 1 occurred\"\n",
      "Warning message:\n",
      "\"glm.fit: fitted probabilities numerically 0 or 1 occurred\"\n",
      "Warning message:\n",
      "\"glm.fit: fitted probabilities numerically 0 or 1 occurred\"\n",
      "Warning message:\n",
      "\"glm.fit: fitted probabilities numerically 0 or 1 occurred\"\n",
      "Warning message:\n",
      "\"glm.fit: fitted probabilities numerically 0 or 1 occurred\"\n",
      "Warning message:\n",
      "\"glm.fit: fitted probabilities numerically 0 or 1 occurred\"\n",
      "Warning message:\n",
      "\"glm.fit: fitted probabilities numerically 0 or 1 occurred\"\n",
      "Warning message:\n",
      "\"glm.fit: fitted probabilities numerically 0 or 1 occurred\"\n"
     ]
    },
    {
     "name": "stdout",
     "output_type": "stream",
     "text": [
      "       Df Deviance     AIC\n",
      "<none>      30.711  50.711\n",
      "- V29   1   33.073  51.073\n",
      "+ V10   1   29.222  51.222\n",
      "+ V12   1   29.440  51.440\n",
      "+ V25   1   30.117  52.117\n",
      "+ V16   1   30.161  52.161\n",
      "+ V5    1   30.464  52.464\n",
      "+ V19   1   30.594  52.594\n",
      "+ V18   1   30.650  52.650\n",
      "- V9    1   34.785  52.785\n",
      "- V20   1   38.219  56.219\n",
      "- V15   1   45.310  63.310\n",
      "- V13   1   50.843  68.843\n",
      "- V2    1   64.339  82.339\n",
      "- V17   1   71.574  89.574\n",
      "- V4    1   92.443 110.443\n",
      "- V27   1  106.229 124.229\n"
     ]
    },
    {
     "data": {
      "text/plain": [
       "\n",
       "Call:\n",
       "glm(formula = Diagnosis ~ V2 + V4 + V9 + V13 + V15 + V17 + V20 + \n",
       "    V27 + V29, family = binomial(link = \"logit\"), data = mydata_train)\n",
       "\n",
       "Deviance Residuals: \n",
       "     Min        1Q    Median        3Q       Max  \n",
       "-1.68127  -0.00083   0.00000   0.00000   2.88833  \n",
       "\n",
       "Coefficients:\n",
       "              Estimate Std. Error z value Pr(>|z|)   \n",
       "(Intercept) -8.153e+01  2.512e+01  -3.245  0.00117 **\n",
       "V2           9.471e-01  3.178e-01   2.980  0.00288 **\n",
       "V4           3.642e-02  1.159e-02   3.143  0.00167 **\n",
       "V9           8.332e+01  4.788e+01   1.740  0.08184 . \n",
       "V13          2.396e+00  9.214e-01   2.601  0.00931 **\n",
       "V15          1.325e+03  4.924e+02   2.691  0.00711 **\n",
       "V17         -4.491e+02  1.576e+02  -2.849  0.00438 **\n",
       "V20         -1.444e+03  6.573e+02  -2.197  0.02804 * \n",
       "V27          7.389e+01  2.335e+01   3.165  0.00155 **\n",
       "V29          2.055e+01  1.441e+01   1.426  0.15385   \n",
       "---\n",
       "Signif. codes:  0 '***' 0.001 '**' 0.01 '*' 0.05 '.' 0.1 ' ' 1\n",
       "\n",
       "(Dispersion parameter for binomial family taken to be 1)\n",
       "\n",
       "    Null deviance: 584.983  on 442  degrees of freedom\n",
       "Residual deviance:  30.711  on 433  degrees of freedom\n",
       "AIC: 50.711\n",
       "\n",
       "Number of Fisher Scoring iterations: 12\n"
      ]
     },
     "metadata": {},
     "output_type": "display_data"
    }
   ],
   "source": [
    "null_model <- glm(data = mydata_train, formula = Diagnosis ~ 1, family = binomial(link = \"logit\"))\n",
    "full_model <- glm(data = mydata_train, formula = Diagnosis ~ V2 + V4 + V5 + V9 + V10 + V12 + V13 + V15 + V16 + V17 + V18 + V19 + V20 + V25 + V27 + V29, family = binomial(link = \"logit\"))\n",
    "step_model <- step(full_model, scope = list(lower = null_model, upper = full_model), direction = \"both\")\n",
    "summary(step_model)"
   ]
  },
  {
   "cell_type": "markdown",
   "metadata": {},
   "source": [
    "W wyniku regresji krokowej widzimy, że tylko zmienna niezależna ```V17``` jest nieistotna na poziomie istotności 10%. Usuwamy ją z modelu i sprawdzamy regresję logistyczną dla pozostałych predyktorów.\n",
    "\n",
    "Na poziomie istotności 1% tylko zmienna ```V18``` jest nieistotna, więc ją usuwamy."
   ]
  },
  {
   "cell_type": "markdown",
   "metadata": {},
   "source": [
    "## Model Regresji Logistycznej (Logit) bez zmiennych skorelowanych"
   ]
  },
  {
   "cell_type": "code",
   "execution_count": 23,
   "metadata": {},
   "outputs": [
    {
     "name": "stderr",
     "output_type": "stream",
     "text": [
      "Warning message:\n",
      "\"glm.fit: fitted probabilities numerically 0 or 1 occurred\"\n"
     ]
    },
    {
     "data": {
      "text/plain": [
       "\n",
       "Call:\n",
       "glm(formula = Diagnosis ~ V2 + V4 + V13 + V16 + V25 + V27 + V29, \n",
       "    family = binomial(link = \"logit\"), data = mydata_train)\n",
       "\n",
       "Deviance Residuals: \n",
       "    Min       1Q   Median       3Q      Max  \n",
       "-1.4900  -0.0075  -0.0003   0.0000   3.3108  \n",
       "\n",
       "Coefficients:\n",
       "              Estimate Std. Error z value Pr(>|z|)    \n",
       "(Intercept) -6.636e+01  1.467e+01  -4.523 6.09e-06 ***\n",
       "V2           7.046e-01  1.816e-01   3.880 0.000104 ***\n",
       "V4           2.965e-02  7.496e-03   3.955 7.64e-05 ***\n",
       "V13          2.100e+00  8.035e-01   2.614 0.008948 ** \n",
       "V16         -1.819e+02  5.438e+01  -3.344 0.000825 ***\n",
       "V25          1.201e+02  3.350e+01   3.586 0.000336 ***\n",
       "V27          2.042e+01  5.931e+00   3.443 0.000576 ***\n",
       "V29          3.439e+01  1.046e+01   3.286 0.001015 ** \n",
       "---\n",
       "Signif. codes:  0 '***' 0.001 '**' 0.01 '*' 0.05 '.' 0.1 ' ' 1\n",
       "\n",
       "(Dispersion parameter for binomial family taken to be 1)\n",
       "\n",
       "    Null deviance: 584.983  on 442  degrees of freedom\n",
       "Residual deviance:  37.056  on 435  degrees of freedom\n",
       "AIC: 53.056\n",
       "\n",
       "Number of Fisher Scoring iterations: 11\n"
      ]
     },
     "metadata": {},
     "output_type": "display_data"
    }
   ],
   "source": [
    "set.seed(1234)\n",
    "mydata_model_logit <- glm(data = mydata_train, formula = Diagnosis ~ V2 + V4 + V13 + V16 + V25 + V27 + V29,\n",
    "                          family = binomial(link = \"logit\"))\n",
    "summary(mydata_model_logit)"
   ]
  },
  {
   "cell_type": "code",
   "execution_count": 24,
   "metadata": {},
   "outputs": [
    {
     "name": "stderr",
     "output_type": "stream",
     "text": [
      "`stat_bin()` using `bins = 30`. Pick better value with `binwidth`.\n",
      "\n"
     ]
    },
    {
     "data": {
      "image/png": "[encoded data removed]",
      "text/plain": [
       "plot without title"
      ]
     },
     "metadata": {
      "image/png": {
       "height": 420,
       "width": 420
      }
     },
     "output_type": "display_data"
    }
   ],
   "source": [
    "mydata_predictions <- predict(mydata_model_logit, mydata_test, type = \"response\") %>% \n",
    "    bind_cols(mydata_test %>% select(Diagnosis), preds = .)\n",
    "ggplot(mydata_predictions, aes(x = preds, fill = Diagnosis)) + geom_histogram() + theme_bw()"
   ]
  },
  {
   "cell_type": "markdown",
   "metadata": {},
   "source": [
    "Dobieramy ```cutoff = 0.7``` dla prawdopodobieństwa."
   ]
  },
  {
   "cell_type": "code",
   "execution_count": 25,
   "metadata": {},
   "outputs": [
    {
     "data": {
      "text/plain": [
       "         Diagnosis\n",
       "predicted  B  M\n",
       "        B 78  5\n",
       "        M  1 42"
      ]
     },
     "metadata": {},
     "output_type": "display_data"
    }
   ],
   "source": [
    "cut07 <- mydata_predictions %>%\n",
    "    mutate(predicted = ifelse(preds >= 0.7, yes = \"M\", no = \"B\")) %>%\n",
    "    select(-preds) %>%\n",
    "    select(predicted, Diagnosis) %>%\n",
    "    table()\n",
    "cut07"
   ]
  },
  {
   "cell_type": "markdown",
   "metadata": {},
   "source": [
    "Sprawdzamy współczynniki modelu, statystykę F1 i krzywą ROC."
   ]
  },
  {
   "cell_type": "code",
   "execution_count": 26,
   "metadata": {
    "scrolled": false
   },
   "outputs": [
    {
     "name": "stderr",
     "output_type": "stream",
     "text": [
      "Setting levels: control = B, case = M\n",
      "\n",
      "Setting direction: controls < cases\n",
      "\n"
     ]
    },
    {
     "data": {
      "text/html": [
       "<strong>Dxy:</strong> 0.967681120387827"
      ],
      "text/latex": [
       "\\textbf{Dxy:} 0.967681120387827"
      ],
      "text/markdown": [
       "**Dxy:** 0.967681120387827"
      ],
      "text/plain": [
       "      Dxy \n",
       "0.9676811 "
      ]
     },
     "metadata": {},
     "output_type": "display_data"
    },
    {
     "name": "stdout",
     "output_type": "stream",
     "text": [
      "[1] \"Accuracy:  0.952380952380952\"\n",
      "[1] \"Precision:  0.939759036144578\"\n",
      "[1] \"Sensivity:  0.987341772151899\"\n",
      "[1] \"F1 Score:  0.962962962962963\"\n",
      "[1] \"Specificity:  0.893617021276596\"\n",
      "[1] \"AUC:  0.983840560193913\"\n",
      "[1] \"Gini:  0.967681120387827\"\n"
     ]
    },
    {
     "data": {
      "image/png": "[encoded data removed]",
      "text/plain": [
       "plot without title"
      ]
     },
     "metadata": {
      "image/png": {
       "height": 420,
       "width": 420
      }
     },
     "output_type": "display_data"
    }
   ],
   "source": [
    "# TP - True Positives\n",
    "# TN - True Negatives\n",
    "# FP - False Positives (Type I error)\n",
    "# FN - False Negatives (Type II error)\n",
    "\n",
    "# Accuracy = (TP + TN) / ALL\n",
    "acc <- sum(diag(cut07)) / sum(cut07)\n",
    "\n",
    "# I klasa\n",
    "# Precision = TP / (TP + FP)\n",
    "pre <- cut07[1, 1] / sum(cut07[1, ])\n",
    "# Recall (Sensivity) = TP / (TP + FN)\n",
    "rec <- cut07[1, 1] / sum(cut07[, 1])\n",
    "# Miara F1 = 2*Precision*Recall / (Precision + Recall)\n",
    "f1 <- 2 * pre * rec / (pre + rec)\n",
    "\n",
    "# II klasa\n",
    "# Specificity = TN / (TN + FP)\n",
    "spec <- cut07[2, 2] / sum(cut07[, 2])\n",
    "# Krzywa ROC (receiver operating characteristic curve)\n",
    "mydata_roc <- roc(mydata_predictions$Diagnosis, mydata_predictions$preds)\n",
    "plot(mydata_roc)\n",
    "# AUC\n",
    "auc <- auc(mydata_roc)\n",
    "# Gini\n",
    "gini <- 2 * mydata_roc$auc - 1 # GINI = 2AUC-1\n",
    "# Gini w pakiecie Hmisc\n",
    "Hmisc::rcorr.cens(mydata_predictions$preds, mydata_predictions$Diagnosis)['Dxy']\n",
    "\n",
    "print(paste(\"Accuracy: \", acc))\n",
    "print(paste(\"Precision: \", pre))\n",
    "print(paste(\"Sensivity: \", rec))\n",
    "print(paste(\"F1 Score: \", f1))\n",
    "print(paste(\"Specificity: \", spec))\n",
    "print(paste(\"AUC: \", auc))\n",
    "print(paste(\"Gini: \", gini))"
   ]
  },
  {
   "cell_type": "markdown",
   "metadata": {},
   "source": [
    "## Model Regresji Logistycznej (Logit) z regularyzacją"
   ]
  },
  {
   "cell_type": "markdown",
   "metadata": {},
   "source": [
    "W klasycznym modelu regresji logistycznej mamy bardzo mały błąd I-szego i II-giego rodzaju. Czułość tego modelu jest równa 98%, swoistość jest rzędu 89%. Metryka F1  jest na poziomie 96%.\n",
    "\n",
    "Metryka F1 jest miarą dokładności testu. Oznacza to, że nasz model regresji logistycznej jest dobry."
   ]
  },
  {
   "cell_type": "markdown",
   "metadata": {},
   "source": [
    "By poprawić przewidywania zastosujemy model regresji logistycznej z regularyzacją LASSO."
   ]
  },
  {
   "cell_type": "code",
   "execution_count": 27,
   "metadata": {},
   "outputs": [
    {
     "name": "stdout",
     "output_type": "stream",
     "text": [
      "\n",
      "H2O is not running yet, starting it now...\n",
      "\n",
      "Note:  In case of errors look at the following log files:\n",
      "    C:\\Users\\Kate\\AppData\\Local\\Temp\\RtmpWKbwT9\\file27ec50054ed3/h2o_Kate_started_from_r.out\n",
      "    C:\\Users\\Kate\\AppData\\Local\\Temp\\RtmpWKbwT9\\file27ec2a727139/h2o_Kate_started_from_r.err\n",
      "\n",
      "\n",
      "Starting H2O JVM and connecting:  Connection successful!\n",
      "\n",
      "R is connected to the H2O cluster: \n",
      "    H2O cluster uptime:         2 seconds 288 milliseconds \n",
      "    H2O cluster timezone:       Europe/Belgrade \n",
      "    H2O data parsing timezone:  UTC \n",
      "    H2O cluster version:        3.32.0.1 \n",
      "    H2O cluster version age:    3 months and 13 days !!! \n",
      "    H2O cluster name:           H2O_started_from_R_Kate_pzv484 \n",
      "    H2O cluster total nodes:    1 \n",
      "    H2O cluster total memory:   3.83 GB \n",
      "    H2O cluster total cores:    4 \n",
      "    H2O cluster allowed cores:  4 \n",
      "    H2O cluster healthy:        TRUE \n",
      "    H2O Connection ip:          localhost \n",
      "    H2O Connection port:        54321 \n",
      "    H2O Connection proxy:       NA \n",
      "    H2O Internal Security:      FALSE \n",
      "    H2O API Extensions:         Amazon S3, Algos, AutoML, Core V3, TargetEncoder, Core V4 \n",
      "    R Version:                  R version 4.0.3 (2020-10-10) \n"
     ]
    },
    {
     "name": "stderr",
     "output_type": "stream",
     "text": [
      "Warning message in h2o.clusterInfo():\n",
      "\"\n",
      "Your H2O cluster version is too old (3 months and 13 days)!\n",
      "Please download and install the latest version from http://h2o.ai/download/\"\n"
     ]
    },
    {
     "name": "stdout",
     "output_type": "stream",
     "text": [
      "\n"
     ]
    },
    {
     "name": "stderr",
     "output_type": "stream",
     "text": [
      "Warning message in use.package(\"data.table\"):\n",
      "\"data.table cannot be used without R package bit64 version 0.9.7 or higher.  Please upgrade to take advangage of data.table speedups.\"\n"
     ]
    },
    {
     "name": "stdout",
     "output_type": "stream",
     "text": [
      "  |======================================================================| 100%\n"
     ]
    },
    {
     "name": "stderr",
     "output_type": "stream",
     "text": [
      "Warning message in use.package(\"data.table\"):\n",
      "\"data.table cannot be used without R package bit64 version 0.9.7 or higher.  Please upgrade to take advangage of data.table speedups.\"\n"
     ]
    },
    {
     "name": "stdout",
     "output_type": "stream",
     "text": [
      "  |======================================================================| 100%\n"
     ]
    },
    {
     "data": {
      "text/html": [
       "<table>\n",
       "<caption>A data.frame: 2 × 1</caption>\n",
       "<thead>\n",
       "\t<tr><th scope=col>key</th></tr>\n",
       "\t<tr><th scope=col>&lt;fct&gt;</th></tr>\n",
       "</thead>\n",
       "<tbody>\n",
       "\t<tr><td>mydata_test </td></tr>\n",
       "\t<tr><td>mydata_train</td></tr>\n",
       "</tbody>\n",
       "</table>\n"
      ],
      "text/latex": [
       "A data.frame: 2 × 1\n",
       "\\begin{tabular}{l}\n",
       " key\\\\\n",
       " <fct>\\\\\n",
       "\\hline\n",
       "\t mydata\\_test \\\\\n",
       "\t mydata\\_train\\\\\n",
       "\\end{tabular}\n"
      ],
      "text/markdown": [
       "\n",
       "A data.frame: 2 × 1\n",
       "\n",
       "| key &lt;fct&gt; |\n",
       "|---|\n",
       "| mydata_test  |\n",
       "| mydata_train |\n",
       "\n"
      ],
      "text/plain": [
       "  key         \n",
       "1 mydata_test \n",
       "2 mydata_train"
      ]
     },
     "metadata": {},
     "output_type": "display_data"
    }
   ],
   "source": [
    "# H2O connection\n",
    "localH2O <- h2o.init(ip = \"localhost\",\n",
    "                     port = 54321,\n",
    "                     nthreads = -1,\n",
    "                     min_mem_size = \"4g\")\n",
    "\n",
    "# Data transfer to H2O\n",
    "mydata_train_h2o <- as.h2o(mydata_train, destination_frame = \"mydata_train\")\n",
    "mydata_test_h2o <- as.h2o(mydata_test, destination_frame = \"mydata_test\")\n",
    "\n",
    "h2o.ls()"
   ]
  },
  {
   "cell_type": "code",
   "execution_count": 28,
   "metadata": {},
   "outputs": [
    {
     "name": "stderr",
     "output_type": "stream",
     "text": [
      "Warning message in .verify_dataxy(training_frame, x, y):\n",
      "\"removing response variable from the explanatory variables\"\n"
     ]
    },
    {
     "name": "stdout",
     "output_type": "stream",
     "text": [
      "  |======================================================================| 100%\n"
     ]
    }
   ],
   "source": [
    "# LASSO\n",
    "mydata_lasso_balanced <- h2o.glm(x = 1:31, # Nazwy lub indeksy\n",
    "                               y = \"Diagnosis\", # Nazwa lub indeks\n",
    "                               training_frame = \"mydata_train\",\n",
    "                               family = \"binomial\",\n",
    "                               alpha = 1,\n",
    "                               lambda_search = TRUE,\n",
    "                               model_id = \"card_lasso_balanced\",\n",
    "                               nfolds = 5,\n",
    "                               balance_classes = TRUE, # Over/under sampling\n",
    "                               class_sampling_factors = c(0.5, 0.5),\n",
    "                               seed = 1234,\n",
    "                               score_each_iteration = TRUE)"
   ]
  },
  {
   "cell_type": "code",
   "execution_count": 29,
   "metadata": {},
   "outputs": [
    {
     "data": {
      "text/html": [
       "<style>\n",
       ".dl-inline {width: auto; margin:0; padding: 0}\n",
       ".dl-inline>dt, .dl-inline>dd {float: none; width: auto; display: inline-block}\n",
       ".dl-inline>dt::after {content: \":\\0020\"; padding-right: .5ex}\n",
       ".dl-inline>dt:not(:first-of-type) {padding-left: .5ex}\n",
       "</style><dl class=dl-inline><dt>Intercept</dt><dd>-28.0553110183529</dd><dt>V1</dt><dd>0</dd><dt>V2</dt><dd>0.0912310549181434</dd><dt>V3</dt><dd>0</dd><dt>V4</dt><dd>0</dd><dt>V5</dt><dd>0</dd><dt>V6</dt><dd>0</dd><dt>V7</dt><dd>0</dd><dt>V8</dt><dd>13.3102810847112</dd><dt>V9</dt><dd>0</dd><dt>V10</dt><dd>-10.6119011264621</dd><dt>V11</dt><dd>3.30072542200911</dd><dt>V12</dt><dd>0</dd><dt>V13</dt><dd>0</dd><dt>V14</dt><dd>0.026305453460601</dd><dt>V15</dt><dd>0</dd><dt>V16</dt><dd>0</dd><dt>V17</dt><dd>0</dd><dt>V18</dt><dd>0</dd><dt>V19</dt><dd>0</dd><dt>V20</dt><dd>-130.59243373499</dd><dt>V21</dt><dd>0.594873026120282</dd><dt>V22</dt><dd>0.152812266653109</dd><dt>V23</dt><dd>0.0151004329244042</dd><dt>V24</dt><dd>0</dd><dt>V25</dt><dd>24.2409641600571</dd><dt>V26</dt><dd>0</dd><dt>V27</dt><dd>2.49918133915017</dd><dt>V28</dt><dd>18.3540912376489</dd><dt>V29</dt><dd>9.31811984948663</dd><dt>V30</dt><dd>0</dd></dl>\n"
      ],
      "text/latex": [
       "\\begin{description*}\n",
       "\\item[Intercept] -28.0553110183529\n",
       "\\item[V1] 0\n",
       "\\item[V2] 0.0912310549181434\n",
       "\\item[V3] 0\n",
       "\\item[V4] 0\n",
       "\\item[V5] 0\n",
       "\\item[V6] 0\n",
       "\\item[V7] 0\n",
       "\\item[V8] 13.3102810847112\n",
       "\\item[V9] 0\n",
       "\\item[V10] -10.6119011264621\n",
       "\\item[V11] 3.30072542200911\n",
       "\\item[V12] 0\n",
       "\\item[V13] 0\n",
       "\\item[V14] 0.026305453460601\n",
       "\\item[V15] 0\n",
       "\\item[V16] 0\n",
       "\\item[V17] 0\n",
       "\\item[V18] 0\n",
       "\\item[V19] 0\n",
       "\\item[V20] -130.59243373499\n",
       "\\item[V21] 0.594873026120282\n",
       "\\item[V22] 0.152812266653109\n",
       "\\item[V23] 0.0151004329244042\n",
       "\\item[V24] 0\n",
       "\\item[V25] 24.2409641600571\n",
       "\\item[V26] 0\n",
       "\\item[V27] 2.49918133915017\n",
       "\\item[V28] 18.3540912376489\n",
       "\\item[V29] 9.31811984948663\n",
       "\\item[V30] 0\n",
       "\\end{description*}\n"
      ],
      "text/markdown": [
       "Intercept\n",
       ":   -28.0553110183529V1\n",
       ":   0V2\n",
       ":   0.0912310549181434V3\n",
       ":   0V4\n",
       ":   0V5\n",
       ":   0V6\n",
       ":   0V7\n",
       ":   0V8\n",
       ":   13.3102810847112V9\n",
       ":   0V10\n",
       ":   -10.6119011264621V11\n",
       ":   3.30072542200911V12\n",
       ":   0V13\n",
       ":   0V14\n",
       ":   0.026305453460601V15\n",
       ":   0V16\n",
       ":   0V17\n",
       ":   0V18\n",
       ":   0V19\n",
       ":   0V20\n",
       ":   -130.59243373499V21\n",
       ":   0.594873026120282V22\n",
       ":   0.152812266653109V23\n",
       ":   0.0151004329244042V24\n",
       ":   0V25\n",
       ":   24.2409641600571V26\n",
       ":   0V27\n",
       ":   2.49918133915017V28\n",
       ":   18.3540912376489V29\n",
       ":   9.31811984948663V30\n",
       ":   0\n",
       "\n"
      ],
      "text/plain": [
       "    Intercept            V1            V2            V3            V4 \n",
       " -28.05531102    0.00000000    0.09123105    0.00000000    0.00000000 \n",
       "           V5            V6            V7            V8            V9 \n",
       "   0.00000000    0.00000000    0.00000000   13.31028108    0.00000000 \n",
       "          V10           V11           V12           V13           V14 \n",
       " -10.61190113    3.30072542    0.00000000    0.00000000    0.02630545 \n",
       "          V15           V16           V17           V18           V19 \n",
       "   0.00000000    0.00000000    0.00000000    0.00000000    0.00000000 \n",
       "          V20           V21           V22           V23           V24 \n",
       "-130.59243373    0.59487303    0.15281227    0.01510043    0.00000000 \n",
       "          V25           V26           V27           V28           V29 \n",
       "  24.24096416    0.00000000    2.49918134   18.35409124    9.31811985 \n",
       "          V30 \n",
       "   0.00000000 "
      ]
     },
     "metadata": {},
     "output_type": "display_data"
    }
   ],
   "source": [
    "# Coefficients of the models\n",
    "\n",
    "h2o.coef(mydata_lasso_balanced)"
   ]
  },
  {
   "cell_type": "markdown",
   "metadata": {},
   "source": [
    "Regularyzacja LASSO, poza penalizacją modelu, działa także jako selektor zmiennych - zeruje współczynniki nieistotne dla modelu. Ze zmiennych niezerowych, czyli istotnych dla modelu, mamy ```V2```, ```V7```, ```V10```, ```V14```, ```V20```, ```V21```, ```V22```, ```V25```, ```V27```, ```V28``` i ```V29```. Mamy łącznie 11 zmiennych istotnych dla modelu (w modelu klasycznym zostało zakwalifikowanych tylko 7 zmiennych jako zmienne istotne)."
   ]
  },
  {
   "cell_type": "markdown",
   "metadata": {},
   "source": [
    "Sprawdzamy współczynniki modelu, statystykę F1 i krzywą ROC."
   ]
  },
  {
   "cell_type": "code",
   "execution_count": 30,
   "metadata": {
    "scrolled": false
   },
   "outputs": [
    {
     "name": "stdout",
     "output_type": "stream",
     "text": [
      "  |======================================================================| 100%\n"
     ]
    },
    {
     "name": "stderr",
     "output_type": "stream",
     "text": [
      "Warning message in h2o.find_row_by_threshold(o, t):\n",
      "\"Could not find exact threshold: 0.5 for this set of metrics; using closest threshold found: 0.51972550457295. Run `h2o.predict` and apply your desired threshold on a probability column.\"\n",
      "Warning message in h2o.find_row_by_threshold(o, t):\n",
      "\"Could not find exact threshold: 0.5 for this set of metrics; using closest threshold found: 0.51972550457295. Run `h2o.predict` and apply your desired threshold on a probability column.\"\n",
      "Warning message in h2o.find_row_by_threshold(o, t):\n",
      "\"Could not find exact threshold: 0.5 for this set of metrics; using closest threshold found: 0.51972550457295. Run `h2o.predict` and apply your desired threshold on a probability column.\"\n"
     ]
    },
    {
     "name": "stdout",
     "output_type": "stream",
     "text": [
      "[1] \"Sensivity:  0.936170212765957\"\n",
      "[1] \"Specificity:  0.987341772151899\"\n",
      "[1] \"F1 Score:  0.956521739130435\"\n",
      "[1] \"Area under the curve (AUC):  0.987341772151899\"\n",
      "[1] \"Gini Coefficient:  0.974683544303798\"\n",
      "[1] \"AIC Coefficient:  77.7329733582753\"\n"
     ]
    },
    {
     "data": {
      "text/html": [
       "<table>\n",
       "<caption>A H2OTable: 3 × 4</caption>\n",
       "<thead>\n",
       "\t<tr><th></th><th scope=col>B</th><th scope=col>M</th><th scope=col>Error</th><th scope=col>Rate</th></tr>\n",
       "\t<tr><th></th><th scope=col>&lt;dbl&gt;</th><th scope=col>&lt;dbl&gt;</th><th scope=col>&lt;dbl&gt;</th><th scope=col>&lt;chr&gt;</th></tr>\n",
       "</thead>\n",
       "<tbody>\n",
       "\t<tr><th scope=row>B</th><td>78</td><td> 1</td><td>0.01265823</td><td> =1/79 </td></tr>\n",
       "\t<tr><th scope=row>M</th><td> 3</td><td>44</td><td>0.06382979</td><td> =3/47 </td></tr>\n",
       "\t<tr><th scope=row>Totals</th><td>81</td><td>45</td><td>0.03174603</td><td> =4/126</td></tr>\n",
       "</tbody>\n",
       "</table>\n"
      ],
      "text/latex": [
       "A H2OTable: 3 × 4\n",
       "\\begin{tabular}{r|llll}\n",
       "  & B & M & Error & Rate\\\\\n",
       "  & <dbl> & <dbl> & <dbl> & <chr>\\\\\n",
       "\\hline\n",
       "\tB & 78 &  1 & 0.01265823 &  =1/79 \\\\\n",
       "\tM &  3 & 44 & 0.06382979 &  =3/47 \\\\\n",
       "\tTotals & 81 & 45 & 0.03174603 &  =4/126\\\\\n",
       "\\end{tabular}\n"
      ],
      "text/markdown": [
       "\n",
       "A H2OTable: 3 × 4\n",
       "\n",
       "| <!--/--> | B &lt;dbl&gt; | M &lt;dbl&gt; | Error &lt;dbl&gt; | Rate &lt;chr&gt; |\n",
       "|---|---|---|---|---|\n",
       "| B | 78 |  1 | 0.01265823 |  =1/79  |\n",
       "| M |  3 | 44 | 0.06382979 |  =3/47  |\n",
       "| Totals | 81 | 45 | 0.03174603 |  =4/126 |\n",
       "\n"
      ],
      "text/plain": [
       "       B  M  Error      Rate   \n",
       "B      78  1 0.01265823  =1/79 \n",
       "M       3 44 0.06382979  =3/47 \n",
       "Totals 81 45 0.03174603  =4/126"
      ]
     },
     "metadata": {},
     "output_type": "display_data"
    },
    {
     "name": "stdout",
     "output_type": "stream",
     "text": [
      "[1] \"Best Lambda:  0.00486791288687257\"\n"
     ]
    },
    {
     "data": {
      "image/png": "[encoded data removed]",
      "text/plain": [
       "plot without title"
      ]
     },
     "metadata": {
      "image/png": {
       "height": 420,
       "width": 420
      }
     },
     "output_type": "display_data"
    }
   ],
   "source": [
    "pred_lasso_balanced <- h2o.predict(mydata_lasso_balanced, mydata_test_h2o)\n",
    "perf_lasso_balanced <- h2o.performance(mydata_lasso_balanced, mydata_test_h2o)\n",
    "\n",
    "rec <- h2o.recall(perf_lasso_balanced, thresholds = 0.5)\n",
    "spec <- h2o.specificity(perf_lasso_balanced, thresholds = 0.5)\n",
    "f1 <- h2o.F1(perf_lasso_balanced, thresholds = 0.5)\n",
    "auc <- h2o.auc(perf_lasso_balanced)\n",
    "gini <- h2o.giniCoef(perf_lasso_balanced)\n",
    "aic <- h2o.aic(mydata_lasso_balanced)\n",
    "\n",
    "print(paste(\"Sensivity: \", rec))\n",
    "print(paste(\"Specificity: \", spec))\n",
    "print(paste(\"F1 Score: \", f1))\n",
    "print(paste(\"Area under the curve (AUC): \", auc))\n",
    "print(paste(\"Gini Coefficient: \", gini))\n",
    "print(paste(\"AIC Coefficient: \", aic))\n",
    "\n",
    "cm_lasso_balanced <- h2o.confusionMatrix(mydata_lasso_balanced, newdata = mydata_test_h2o, metrics = \"f1\")\n",
    "cm_lasso_balanced\n",
    "\n",
    "fpr <- h2o.fpr(perf_lasso_balanced)[['fpr']]\n",
    "tpr <- h2o.tpr(perf_lasso_balanced)[['tpr']]\n",
    "ggplot(data.frame(fpr = fpr, tpr = tpr), aes(fpr, tpr)) + geom_line() + theme_bw()\n",
    "\n",
    "print(paste(\"Best Lambda: \", mydata_lasso_balanced@model$lambda_best))"
   ]
  },
  {
   "cell_type": "markdown",
   "metadata": {},
   "source": [
    "W modelu regresji logistycznej z regularyzacją mamy bardzo mały błąd I-szego i II-giego rodzaju. Czułość modelu jest równa 93%, swoistość - 98%. Metryka F1 jest na poziomie 95%. Pole powierzchni pod krzywą AUC jest równe 98%."
   ]
  },
  {
   "cell_type": "markdown",
   "metadata": {},
   "source": [
    "### Drzewo Decyzyjne Random Forest"
   ]
  },
  {
   "cell_type": "markdown",
   "metadata": {},
   "source": [
    "Sprawdzimy, czy możemy poprawić model jescze bardziej za pomocą modelu Drzew decyzyjnych Random Forest."
   ]
  },
  {
   "cell_type": "code",
   "execution_count": 31,
   "metadata": {},
   "outputs": [
    {
     "name": "stderr",
     "output_type": "stream",
     "text": [
      "Warning message in .verify_dataxy(training_frame, x, y):\n",
      "\"removing response variable from the explanatory variables\"\n"
     ]
    },
    {
     "name": "stdout",
     "output_type": "stream",
     "text": [
      "  |======================================================================| 100%\n"
     ]
    },
    {
     "data": {
      "text/html": [
       "<table>\n",
       "<caption>A H2OTable: 3 × 4</caption>\n",
       "<thead>\n",
       "\t<tr><th></th><th scope=col>B</th><th scope=col>M</th><th scope=col>Error</th><th scope=col>Rate</th></tr>\n",
       "\t<tr><th></th><th scope=col>&lt;dbl&gt;</th><th scope=col>&lt;dbl&gt;</th><th scope=col>&lt;dbl&gt;</th><th scope=col>&lt;chr&gt;</th></tr>\n",
       "</thead>\n",
       "<tbody>\n",
       "\t<tr><th scope=row>B</th><td>74</td><td> 5</td><td>0.06329114</td><td> =5/79 </td></tr>\n",
       "\t<tr><th scope=row>M</th><td> 2</td><td>45</td><td>0.04255319</td><td> =2/47 </td></tr>\n",
       "\t<tr><th scope=row>Totals</th><td>76</td><td>50</td><td>0.05555556</td><td> =7/126</td></tr>\n",
       "</tbody>\n",
       "</table>\n"
      ],
      "text/latex": [
       "A H2OTable: 3 × 4\n",
       "\\begin{tabular}{r|llll}\n",
       "  & B & M & Error & Rate\\\\\n",
       "  & <dbl> & <dbl> & <dbl> & <chr>\\\\\n",
       "\\hline\n",
       "\tB & 74 &  5 & 0.06329114 &  =5/79 \\\\\n",
       "\tM &  2 & 45 & 0.04255319 &  =2/47 \\\\\n",
       "\tTotals & 76 & 50 & 0.05555556 &  =7/126\\\\\n",
       "\\end{tabular}\n"
      ],
      "text/markdown": [
       "\n",
       "A H2OTable: 3 × 4\n",
       "\n",
       "| <!--/--> | B &lt;dbl&gt; | M &lt;dbl&gt; | Error &lt;dbl&gt; | Rate &lt;chr&gt; |\n",
       "|---|---|---|---|---|\n",
       "| B | 74 |  5 | 0.06329114 |  =5/79  |\n",
       "| M |  2 | 45 | 0.04255319 |  =2/47  |\n",
       "| Totals | 76 | 50 | 0.05555556 |  =7/126 |\n",
       "\n"
      ],
      "text/plain": [
       "       B  M  Error      Rate   \n",
       "B      74  5 0.06329114  =5/79 \n",
       "M       2 45 0.04255319  =2/47 \n",
       "Totals 76 50 0.05555556  =7/126"
      ]
     },
     "metadata": {},
     "output_type": "display_data"
    },
    {
     "name": "stdout",
     "output_type": "stream",
     "text": [
      "[1] \"Sensivity:  0.936170212765957\"\n",
      "[1] \"Specificity:  0.949367088607595\"\n",
      "[1] \"F1 Score:  0.926315789473684\"\n",
      "[1] \"Area under the curve (AUC):  0.967411796391058\"\n",
      "[1] \"Gini Coefficient:  0.934823592782117\"\n"
     ]
    },
    {
     "data": {
      "image/png": "[encoded data removed]",
      "text/plain": [
       "plot without title"
      ]
     },
     "metadata": {
      "image/png": {
       "height": 420,
       "width": 420
      }
     },
     "output_type": "display_data"
    }
   ],
   "source": [
    "rand_forest_f1 <- h2o.randomForest(\n",
    "    x = 1:230, # Predyktory\n",
    "    y = \"Diagnosis\", # Zmianna objaśniana\n",
    "    training_frame = \"mydata_train\", # Zbiór treningowy\n",
    "    validation_frame = \"mydata_test\", # Zbiór walidacyjny\n",
    "    model_id = \"rand_forest_f1\", # Klucz modelu w H2O\n",
    "    ntrees = 10, # Ilość dzrzew klasyfikacyjnych\n",
    "    max_depth = 10, # Maksymalna wielkość drzewa\n",
    "    mtries = 2, # Liczba losowo wybranych kolumn w splicie\n",
    "    sample_rate = 0.6320000291, # Prawdopodbieństwo ponownego wylosowania danej obserwacji,\n",
    "    min_rows = 1, # Minimum obserwacji per liść\n",
    "    seed = 1234\n",
    ")\n",
    "\n",
    "rand_forest_f1_perf <- h2o.performance(rand_forest_f1, newdata = mydata_test_h2o)\n",
    "\n",
    "h2o.confusionMatrix(rand_forest_f1_perf, metric = \"f1\")\n",
    "\n",
    "rec <- h2o.recall(rand_forest_f1_perf, thresholds = 0.5)\n",
    "spec <- h2o.specificity(rand_forest_f1_perf, thresholds = 0.5)\n",
    "f1 <- h2o.F1(rand_forest_f1_perf, thresholds = 0.5)\n",
    "auc <- h2o.auc(rand_forest_f1_perf)\n",
    "gini <- h2o.giniCoef(rand_forest_f1_perf)\n",
    "\n",
    "print(paste(\"Sensivity: \", rec))\n",
    "print(paste(\"Specificity: \", spec))\n",
    "print(paste(\"F1 Score: \", f1))\n",
    "print(paste(\"Area under the curve (AUC): \", auc))\n",
    "print(paste(\"Gini Coefficient: \", gini))\n",
    "\n",
    "fpr <- h2o.fpr(rand_forest_f1_perf)[['fpr']]\n",
    "tpr <- h2o.tpr(rand_forest_f1_perf)[['tpr']]\n",
    "ggplot(data.frame(fpr = fpr, tpr = tpr), aes(fpr, tpr)) + geom_line() + theme_bw()"
   ]
  },
  {
   "cell_type": "markdown",
   "metadata": {},
   "source": [
    "W modelu drzew decyzyjnych mamy bardzo mały błąd I-szego i II-giego rodzaju. Czułość modelu jest równa 93%, swoistość - 94%. Metryka F1 jest na poziomie 92%. Pole powierzchni pod krzywą AUC jest równe 96%."
   ]
  },
  {
   "cell_type": "code",
   "execution_count": 32,
   "metadata": {},
   "outputs": [],
   "source": [
    "# Close the cluster\n",
    "\n",
    "h2o.shutdown(prompt = FALSE)"
   ]
  },
  {
   "cell_type": "markdown",
   "metadata": {},
   "source": [
    "### Konkluzje"
   ]
  },
  {
   "cell_type": "markdown",
   "metadata": {},
   "source": [
    "Zróbmy zestawienie statystyk wszystkich 3 modeli:"
   ]
  },
  {
   "cell_type": "markdown",
   "metadata": {},
   "source": [
    "| Statystyka | Klasyczna Regresja Logit | Regresja Logit z regularyzacją | Drzewo Decyzyjne |\n",
    "| --- | --- | --- | --- |\n",
    "| Czułość | 98% | 98% | 93% |\n",
    "| Swoistość | 89% | 98% | 94% |\n",
    "| Metryka F1 | 96% | 95% | 92% |\n",
    "| AUC | 98% | 98% | 96% |"
   ]
  },
  {
   "cell_type": "markdown",
   "metadata": {},
   "source": [
    "Porównując metrykę F1 i pole powierzchni pod krzywą AUC widzimy, że model Drzewa decyzyjnego ma najsłabsze statystyki w porównaniu z modelami Regresji logistycznej.\n",
    "\n",
    "Współczynniki AUC dla obu modeli Regresji Logistycznych są takie same. Natomiast metryka F1 dla Klasycznej Regresji Logistycznej jest lepsza o jeden punkt procentowy. Dlatego też model Klasycznej Regresji Logistycznej zostałby wybrany do przewidywania złośliwości zmiany w gruczole sutkowym przy użyciu predyktorów użytych w badanym zbiorze danych."
   ]
  },
  {
   "cell_type": "code",
   "execution_count": null,
   "metadata": {},
   "outputs": [],
   "source": []
  }
 ],
 "metadata": {
  "kernelspec": {
   "display_name": "R",
   "language": "R",
   "name": "ir"
  },
  "language_info": {
   "codemirror_mode": "r",
   "file_extension": ".r",
   "mimetype": "text/x-r-source",
   "name": "R",
   "pygments_lexer": "r",
   "version": "4.0.3"
  }
 },
 "nbformat": 4,
 "nbformat_minor": 4
}
